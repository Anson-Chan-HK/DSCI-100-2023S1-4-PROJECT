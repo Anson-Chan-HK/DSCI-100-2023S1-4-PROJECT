{
 "cells": [
  {
   "cell_type": "markdown",
   "id": "f8af03b9-614c-464d-a705-6f1798d8a745",
   "metadata": {},
   "source": [
    "Title: The Prediction of Gross National Income of Canada in 2020, 2021 and 2022 from the datasets of 2013-2019"
   ]
  },
  {
   "cell_type": "markdown",
   "id": "817d93e3-01c0-4f7c-8ea5-f7726bed1117",
   "metadata": {},
   "source": [
    "Introduction\n",
    "\n",
    "We are trying to predict the Real Gross National Income (GNI) of Canada in 2020, 2021 and 2022 by three variables, namely Consumer Price Index (CPI), current account balance (CA), and unemployment rate. We would do this by running regression analysis of the four variables (including the dependent variable GNI) from 2013-2019. This project is significant because it interacts different macroeconomic variables and any policy manipulation on the three variables could predict changes in GNI, which is one of the best measurements of economic wellbeing. We collected our data from Statistics Canada, which each variables filtered from 2013-2022 only. All data are unadjusted annual data.\n",
    "    "
   ]
  },
  {
   "cell_type": "code",
   "execution_count": null,
   "id": "c13a1134-32c5-4e6a-a39e-36ba5c9bb087",
   "metadata": {},
   "outputs": [],
   "source": [
    "Terminology \n",
    "- GNI: Gross National Income, which is the aggregate income of residents of an economy in a particular year.\n",
    "- CPI: Consumer Price Index, which is the price level of an economy by calculating the indexed price of a basket of goods and services a typical consumer of an economy purchases.\n",
    "- Current Account: Net goods and services outflow of an economy in a particular year. \n",
    "- Unemployment rate: Total unemployment persons over total labour force of an economy in a particular year."
   ]
  },
  {
   "cell_type": "code",
   "execution_count": 1,
   "id": "d0972eb0-c661-441a-a554-7fc0cd55cba4",
   "metadata": {},
   "outputs": [
    {
     "ename": "ERROR",
     "evalue": "Error in parse(text = x, srcfile = src): <text>:1:13: unexpected symbol\n1: Preliminary exploratory\n                ^\n",
     "output_type": "error",
     "traceback": [
      "Error in parse(text = x, srcfile = src): <text>:1:13: unexpected symbol\n1: Preliminary exploratory\n                ^\nTraceback:\n"
     ]
    }
   ],
   "source": [
    "Preliminary exploratory data analysis below:"
   ]
  },
  {
   "cell_type": "code",
   "execution_count": 2,
   "id": "db3c02b1-0703-4d5e-9ef6-d8e5a4516a4b",
   "metadata": {},
   "outputs": [
    {
     "name": "stderr",
     "output_type": "stream",
     "text": [
      "── \u001b[1mAttaching packages\u001b[22m ─────────────────────────────────────── tidyverse 1.3.1 ──\n",
      "\n",
      "\u001b[32m✔\u001b[39m \u001b[34mggplot2\u001b[39m 3.3.6     \u001b[32m✔\u001b[39m \u001b[34mpurrr  \u001b[39m 0.3.4\n",
      "\u001b[32m✔\u001b[39m \u001b[34mtibble \u001b[39m 3.1.7     \u001b[32m✔\u001b[39m \u001b[34mdplyr  \u001b[39m 1.0.9\n",
      "\u001b[32m✔\u001b[39m \u001b[34mtidyr  \u001b[39m 1.2.0     \u001b[32m✔\u001b[39m \u001b[34mstringr\u001b[39m 1.4.0\n",
      "\u001b[32m✔\u001b[39m \u001b[34mreadr  \u001b[39m 2.1.2     \u001b[32m✔\u001b[39m \u001b[34mforcats\u001b[39m 0.5.1\n",
      "\n",
      "── \u001b[1mConflicts\u001b[22m ────────────────────────────────────────── tidyverse_conflicts() ──\n",
      "\u001b[31m✖\u001b[39m \u001b[34mdplyr\u001b[39m::\u001b[32mfilter()\u001b[39m masks \u001b[34mstats\u001b[39m::filter()\n",
      "\u001b[31m✖\u001b[39m \u001b[34mdplyr\u001b[39m::\u001b[32mlag()\u001b[39m    masks \u001b[34mstats\u001b[39m::lag()\n",
      "\n"
     ]
    }
   ],
   "source": [
    "library(tidyverse)\n",
    "library(repr)\n",
    "library(readxl)\n",
    "options(repr.matrix.max.rows = 6)"
   ]
  },
  {
   "cell_type": "code",
   "execution_count": 3,
   "id": "7c306720-587e-485e-b3c1-8b075961fdfe",
   "metadata": {},
   "outputs": [
    {
     "name": "stderr",
     "output_type": "stream",
     "text": [
      "\u001b[1m\u001b[22mNew names:\n",
      "\u001b[36m•\u001b[39m `` -> `...1`\n",
      "\u001b[36m•\u001b[39m `` -> `...2`\n",
      "\u001b[36m•\u001b[39m `` -> `...3`\n",
      "\u001b[36m•\u001b[39m `` -> `...4`\n",
      "\u001b[36m•\u001b[39m `` -> `...5`\n",
      "\u001b[36m•\u001b[39m `` -> `...6`\n",
      "\u001b[36m•\u001b[39m `` -> `...7`\n",
      "\u001b[36m•\u001b[39m `` -> `...8`\n",
      "\u001b[36m•\u001b[39m `` -> `...9`\n",
      "\u001b[36m•\u001b[39m `` -> `...10`\n",
      "\u001b[36m•\u001b[39m `` -> `...11`\n",
      "\u001b[1mRows: \u001b[22m\u001b[34m33\u001b[39m \u001b[1mColumns: \u001b[22m\u001b[34m11\u001b[39m\n",
      "\u001b[36m──\u001b[39m \u001b[1mColumn specification\u001b[22m \u001b[36m────────────────────────────────────────────────────────\u001b[39m\n",
      "\u001b[1mDelimiter:\u001b[22m \",\"\n",
      "\u001b[31mchr\u001b[39m (2): ...1, ...2\n",
      "\u001b[32mdbl\u001b[39m (9): ...3, ...4, ...5, ...6, ...7, ...8, ...9, ...10, ...11\n",
      "\n",
      "\u001b[36mℹ\u001b[39m Use `spec()` to retrieve the full column specification for this data.\n",
      "\u001b[36mℹ\u001b[39m Specify the column types or set `show_col_types = FALSE` to quiet this message.\n"
     ]
    },
    {
     "data": {
      "text/html": [
       "<table class=\"dataframe\">\n",
       "<caption>A spec_tbl_df: 19 × 11</caption>\n",
       "<thead>\n",
       "\t<tr><th scope=col>...1</th><th scope=col>...2</th><th scope=col>...3</th><th scope=col>...4</th><th scope=col>...5</th><th scope=col>...6</th><th scope=col>...7</th><th scope=col>...8</th><th scope=col>...9</th><th scope=col>...10</th><th scope=col>...11</th></tr>\n",
       "\t<tr><th scope=col>&lt;chr&gt;</th><th scope=col>&lt;chr&gt;</th><th scope=col>&lt;dbl&gt;</th><th scope=col>&lt;dbl&gt;</th><th scope=col>&lt;dbl&gt;</th><th scope=col>&lt;dbl&gt;</th><th scope=col>&lt;dbl&gt;</th><th scope=col>&lt;dbl&gt;</th><th scope=col>&lt;dbl&gt;</th><th scope=col>&lt;dbl&gt;</th><th scope=col>&lt;dbl&gt;</th></tr>\n",
       "</thead>\n",
       "<tbody>\n",
       "\t<tr><td>Estimates                                                         </td><td>2013 </td><td>2014.0</td><td>2015.0</td><td>2016</td><td>2017.0</td><td>2018.0</td><td>2019.0</td><td>2020.0</td><td>2021.0</td><td>2022.0</td></tr>\n",
       "\t<tr><td>Real gross domestic product, volume index 2012=100                </td><td>102.3</td><td> 105.3</td><td> 106.0</td><td> 107</td><td> 110.3</td><td> 113.3</td><td> 115.5</td><td> 109.6</td><td> 115.1</td><td> 119.1</td></tr>\n",
       "\t<tr><td>Real gross domestic product, volume index 2012=100, percent change</td><td>2.3  </td><td>   2.9</td><td>   0.7</td><td>   1</td><td>   3.0</td><td>   2.8</td><td>   1.9</td><td>  -5.1</td><td>   5.0</td><td>   3.4</td></tr>\n",
       "\t<tr><td>⋮</td><td>⋮</td><td>⋮</td><td>⋮</td><td>⋮</td><td>⋮</td><td>⋮</td><td>⋮</td><td>⋮</td><td>⋮</td><td>⋮</td></tr>\n",
       "\t<tr><td>Real exchange rate, index 2012=100                    </td><td>99.7 </td><td>101.1</td><td>100.1</td><td> 98.8</td><td> 99.5</td><td>101.1</td><td>100.6</td><td> 96.7</td><td>101.7</td><td>110.8</td></tr>\n",
       "\t<tr><td>Terms of trade, index 2012=100                        </td><td>100.6</td><td> 99.2</td><td> 92.3</td><td> 91.3</td><td> 94.6</td><td> 94.9</td><td> 94.1</td><td> 91.0</td><td>103.9</td><td>109.4</td></tr>\n",
       "\t<tr><td>Real personal disposable income, volume index 2012=100</td><td>103.2</td><td>104.6</td><td>108.1</td><td>107.5</td><td>111.7</td><td>113.3</td><td>116.5</td><td>125.3</td><td>126.8</td><td>126.3</td></tr>\n",
       "</tbody>\n",
       "</table>\n"
      ],
      "text/latex": [
       "A spec\\_tbl\\_df: 19 × 11\n",
       "\\begin{tabular}{lllllllllll}\n",
       " ...1 & ...2 & ...3 & ...4 & ...5 & ...6 & ...7 & ...8 & ...9 & ...10 & ...11\\\\\n",
       " <chr> & <chr> & <dbl> & <dbl> & <dbl> & <dbl> & <dbl> & <dbl> & <dbl> & <dbl> & <dbl>\\\\\n",
       "\\hline\n",
       "\t Estimates                                                          & 2013  & 2014.0 & 2015.0 & 2016 & 2017.0 & 2018.0 & 2019.0 & 2020.0 & 2021.0 & 2022.0\\\\\n",
       "\t Real gross domestic product, volume index 2012=100                 & 102.3 &  105.3 &  106.0 &  107 &  110.3 &  113.3 &  115.5 &  109.6 &  115.1 &  119.1\\\\\n",
       "\t Real gross domestic product, volume index 2012=100, percent change & 2.3   &    2.9 &    0.7 &    1 &    3.0 &    2.8 &    1.9 &   -5.1 &    5.0 &    3.4\\\\\n",
       "\t ⋮ & ⋮ & ⋮ & ⋮ & ⋮ & ⋮ & ⋮ & ⋮ & ⋮ & ⋮ & ⋮\\\\\n",
       "\t Real exchange rate, index 2012=100                     & 99.7  & 101.1 & 100.1 &  98.8 &  99.5 & 101.1 & 100.6 &  96.7 & 101.7 & 110.8\\\\\n",
       "\t Terms of trade, index 2012=100                         & 100.6 &  99.2 &  92.3 &  91.3 &  94.6 &  94.9 &  94.1 &  91.0 & 103.9 & 109.4\\\\\n",
       "\t Real personal disposable income, volume index 2012=100 & 103.2 & 104.6 & 108.1 & 107.5 & 111.7 & 113.3 & 116.5 & 125.3 & 126.8 & 126.3\\\\\n",
       "\\end{tabular}\n"
      ],
      "text/markdown": [
       "\n",
       "A spec_tbl_df: 19 × 11\n",
       "\n",
       "| ...1 &lt;chr&gt; | ...2 &lt;chr&gt; | ...3 &lt;dbl&gt; | ...4 &lt;dbl&gt; | ...5 &lt;dbl&gt; | ...6 &lt;dbl&gt; | ...7 &lt;dbl&gt; | ...8 &lt;dbl&gt; | ...9 &lt;dbl&gt; | ...10 &lt;dbl&gt; | ...11 &lt;dbl&gt; |\n",
       "|---|---|---|---|---|---|---|---|---|---|---|\n",
       "| Estimates                                                          | 2013  | 2014.0 | 2015.0 | 2016 | 2017.0 | 2018.0 | 2019.0 | 2020.0 | 2021.0 | 2022.0 |\n",
       "| Real gross domestic product, volume index 2012=100                 | 102.3 |  105.3 |  106.0 |  107 |  110.3 |  113.3 |  115.5 |  109.6 |  115.1 |  119.1 |\n",
       "| Real gross domestic product, volume index 2012=100, percent change | 2.3   |    2.9 |    0.7 |    1 |    3.0 |    2.8 |    1.9 |   -5.1 |    5.0 |    3.4 |\n",
       "| ⋮ | ⋮ | ⋮ | ⋮ | ⋮ | ⋮ | ⋮ | ⋮ | ⋮ | ⋮ | ⋮ |\n",
       "| Real exchange rate, index 2012=100                     | 99.7  | 101.1 | 100.1 |  98.8 |  99.5 | 101.1 | 100.6 |  96.7 | 101.7 | 110.8 |\n",
       "| Terms of trade, index 2012=100                         | 100.6 |  99.2 |  92.3 |  91.3 |  94.6 |  94.9 |  94.1 |  91.0 | 103.9 | 109.4 |\n",
       "| Real personal disposable income, volume index 2012=100 | 103.2 | 104.6 | 108.1 | 107.5 | 111.7 | 113.3 | 116.5 | 125.3 | 126.8 | 126.3 |\n",
       "\n"
      ],
      "text/plain": [
       "   ...1                                                               ...2 \n",
       "1  Estimates                                                          2013 \n",
       "2  Real gross domestic product, volume index 2012=100                 102.3\n",
       "3  Real gross domestic product, volume index 2012=100, percent change 2.3  \n",
       "⋮  ⋮                                                                  ⋮    \n",
       "17 Real exchange rate, index 2012=100                                 99.7 \n",
       "18 Terms of trade, index 2012=100                                     100.6\n",
       "19 Real personal disposable income, volume index 2012=100             103.2\n",
       "   ...3   ...4   ...5  ...6   ...7   ...8   ...9   ...10  ...11 \n",
       "1  2014.0 2015.0 2016  2017.0 2018.0 2019.0 2020.0 2021.0 2022.0\n",
       "2   105.3  106.0  107   110.3  113.3  115.5  109.6  115.1  119.1\n",
       "3     2.9    0.7    1     3.0    2.8    1.9   -5.1    5.0    3.4\n",
       "⋮  ⋮      ⋮      ⋮     ⋮      ⋮      ⋮      ⋮      ⋮      ⋮     \n",
       "17 101.1  100.1   98.8  99.5  101.1  100.6   96.7  101.7  110.8 \n",
       "18  99.2   92.3   91.3  94.6   94.9   94.1   91.0  103.9  109.4 \n",
       "19 104.6  108.1  107.5 111.7  113.3  116.5  125.3  126.8  126.3 "
      ]
     },
     "metadata": {},
     "output_type": "display_data"
    }
   ],
   "source": [
    "gni<-read_csv(\"gni.csv\",skip=7)|>\n",
    "filter(!is.na(...3))\n",
    "gni"
   ]
  },
  {
   "cell_type": "code",
   "execution_count": 4,
   "id": "72fb80f8-da23-497b-8351-96868f03b4e4",
   "metadata": {},
   "outputs": [
    {
     "name": "stderr",
     "output_type": "stream",
     "text": [
      "Multiple files in zip: reading 'Data/PresetImageFill3-19.jpg'\n"
     ]
    },
    {
     "ename": "ERROR",
     "evalue": "Error in vroom_(file, delim = delim %||% col_types$delim, col_names = col_names, : embedded nul in string: '\\xff\\xd8\\xff\\xe0\\0\\020JFIF\\0\\001\\001\\0\\0H\\0H\\0\\0\\xff\\xe1\\0LExif\\0\\0MM\\0*\\0\\0\\0\\b\\0\\001\\x87i\\0\\004\\0\\0\\0\\001\\0\\0\\0\\032\\0\\0\\0\\0\\0\\003\\xa0\\001\\0\\003\\0\\0\\0\\001\\0\\001\\0\\0\\xa0\\002\\0\\004\\0\\0\\0\\001\\0\\0\\001\\xf4\\xa0\\003\\0\\004\\0\\0\\0\\001\\0\\0\\001\\xf4\\0\\0\\0\\0\\xff\\xed\\08Photoshop 3.0\\08BIM\\004\\004\\0\\0\\0\\0\\0\\08BIM\\004%\\0\\0\\0\\0\\0\\020\\xd4\\035\\x8cُ\\0\\xb2\\004\\xe9\\x80\\t\\x98\\xec\\xf8B~\\xff\\xc0\\0\\021\\b\\001\\xf4\\001\\xf4\\003\\001\"\\0\\002\\021\\001\\003\\021\\001\\xff\\xc4\\0\\037\\0\\0\\001\\005\\001\\001\\001\\001\\001\\001\\0\\0\\0\\0\\0\\0\\0\\0\\001\\002\\003\\004\\005\\006\\a\\b'\n",
     "output_type": "error",
     "traceback": [
      "Error in vroom_(file, delim = delim %||% col_types$delim, col_names = col_names, : embedded nul in string: '\\xff\\xd8\\xff\\xe0\\0\\020JFIF\\0\\001\\001\\0\\0H\\0H\\0\\0\\xff\\xe1\\0LExif\\0\\0MM\\0*\\0\\0\\0\\b\\0\\001\\x87i\\0\\004\\0\\0\\0\\001\\0\\0\\0\\032\\0\\0\\0\\0\\0\\003\\xa0\\001\\0\\003\\0\\0\\0\\001\\0\\001\\0\\0\\xa0\\002\\0\\004\\0\\0\\0\\001\\0\\0\\001\\xf4\\xa0\\003\\0\\004\\0\\0\\0\\001\\0\\0\\001\\xf4\\0\\0\\0\\0\\xff\\xed\\08Photoshop 3.0\\08BIM\\004\\004\\0\\0\\0\\0\\0\\08BIM\\004%\\0\\0\\0\\0\\0\\020\\xd4\\035\\x8cُ\\0\\xb2\\004\\xe9\\x80\\t\\x98\\xec\\xf8B~\\xff\\xc0\\0\\021\\b\\001\\xf4\\001\\xf4\\003\\001\"\\0\\002\\021\\001\\003\\021\\001\\xff\\xc4\\0\\037\\0\\0\\001\\005\\001\\001\\001\\001\\001\\001\\0\\0\\0\\0\\0\\0\\0\\0\\001\\002\\003\\004\\005\\006\\a\\b'\nTraceback:\n",
      "1. filter(read_csv(\"current_account1.csv\"), !is.na(...3))",
      "2. read_csv(\"current_account1.csv\")",
      "3. vroom::vroom(file, delim = \",\", col_names = col_names, col_types = col_types, \n .     col_select = {\n .         {\n .             col_select\n .         }\n .     }, id = id, .name_repair = name_repair, skip = skip, n_max = n_max, \n .     na = na, quote = quote, comment = comment, skip_empty_rows = skip_empty_rows, \n .     trim_ws = trim_ws, escape_double = TRUE, escape_backslash = FALSE, \n .     locale = locale, guess_max = guess_max, show_col_types = show_col_types, \n .     progress = progress, altrep = lazy, num_threads = num_threads)",
      "4. vroom_(file, delim = delim %||% col_types$delim, col_names = col_names, \n .     col_types = col_types, id = id, skip = skip, col_select = col_select, \n .     name_repair = .name_repair, na = na, quote = quote, trim_ws = trim_ws, \n .     escape_double = escape_double, escape_backslash = escape_backslash, \n .     comment = comment, skip_empty_rows = skip_empty_rows, locale = locale, \n .     guess_max = guess_max, n_max = n_max, altrep = vroom_altrep(altrep), \n .     num_threads = num_threads, progress = progress)"
     ]
    }
   ],
   "source": [
    "current_account<-read_csv(\"current_account1.csv\")|>\n",
    "filter(!is.na(...3))\n",
    "current_account"
   ]
  },
  {
   "cell_type": "code",
   "execution_count": 5,
   "id": "9a12f31b-8538-49f6-ac52-67778bd8ddc9",
   "metadata": {},
   "outputs": [
    {
     "name": "stderr",
     "output_type": "stream",
     "text": [
      "\u001b[1m\u001b[22mNew names:\n",
      "\u001b[36m•\u001b[39m `` -> `...1`\n",
      "\u001b[36m•\u001b[39m `` -> `...2`\n",
      "\u001b[36m•\u001b[39m `` -> `...3`\n",
      "\u001b[36m•\u001b[39m `` -> `...4`\n",
      "\u001b[36m•\u001b[39m `` -> `...5`\n",
      "\u001b[36m•\u001b[39m `` -> `...6`\n",
      "\u001b[36m•\u001b[39m `` -> `...7`\n",
      "\u001b[36m•\u001b[39m `` -> `...8`\n",
      "\u001b[36m•\u001b[39m `` -> `...9`\n",
      "\u001b[36m•\u001b[39m `` -> `...10`\n",
      "\u001b[36m•\u001b[39m `` -> `...11`\n",
      "\u001b[36m•\u001b[39m `` -> `...12`\n",
      "\u001b[36m•\u001b[39m `` -> `...13`\n",
      "\u001b[36m•\u001b[39m `` -> `...14`\n",
      "\u001b[36m•\u001b[39m `` -> `...15`\n",
      "\u001b[36m•\u001b[39m `` -> `...16`\n",
      "\u001b[36m•\u001b[39m `` -> `...17`\n",
      "\u001b[36m•\u001b[39m `` -> `...18`\n",
      "\u001b[1mRows: \u001b[22m\u001b[34m37\u001b[39m \u001b[1mColumns: \u001b[22m\u001b[34m18\u001b[39m\n",
      "\u001b[36m──\u001b[39m \u001b[1mColumn specification\u001b[22m \u001b[36m────────────────────────────────────────────────────────\u001b[39m\n",
      "\u001b[1mDelimiter:\u001b[22m \",\"\n",
      "\u001b[31mchr\u001b[39m (18): ...1, ...2, ...3, ...4, ...5, ...6, ...7, ...8, ...9, ...10, ...11...\n",
      "\n",
      "\u001b[36mℹ\u001b[39m Use `spec()` to retrieve the full column specification for this data.\n",
      "\u001b[36mℹ\u001b[39m Specify the column types or set `show_col_types = FALSE` to quiet this message.\n"
     ]
    },
    {
     "data": {
      "text/html": [
       "<table class=\"dataframe\">\n",
       "<caption>A spec_tbl_df: 18 × 18</caption>\n",
       "<thead>\n",
       "\t<tr><th scope=col>...1</th><th scope=col>...2</th><th scope=col>...3</th><th scope=col>...4</th><th scope=col>...5</th><th scope=col>...6</th><th scope=col>...7</th><th scope=col>...8</th><th scope=col>...9</th><th scope=col>...10</th><th scope=col>...11</th><th scope=col>...12</th><th scope=col>...13</th><th scope=col>...14</th><th scope=col>...15</th><th scope=col>...16</th><th scope=col>...17</th><th scope=col>...18</th></tr>\n",
       "\t<tr><th scope=col>&lt;chr&gt;</th><th scope=col>&lt;chr&gt;</th><th scope=col>&lt;chr&gt;</th><th scope=col>&lt;chr&gt;</th><th scope=col>&lt;chr&gt;</th><th scope=col>&lt;chr&gt;</th><th scope=col>&lt;chr&gt;</th><th scope=col>&lt;chr&gt;</th><th scope=col>&lt;chr&gt;</th><th scope=col>&lt;chr&gt;</th><th scope=col>&lt;chr&gt;</th><th scope=col>&lt;chr&gt;</th><th scope=col>&lt;chr&gt;</th><th scope=col>&lt;chr&gt;</th><th scope=col>&lt;chr&gt;</th><th scope=col>&lt;chr&gt;</th><th scope=col>&lt;chr&gt;</th><th scope=col>&lt;chr&gt;</th></tr>\n",
       "</thead>\n",
       "<tbody>\n",
       "\t<tr><td>Products and product groups 4</td><td>2013 </td><td>2014 </td><td>2015 </td><td>2016 </td><td>2017 </td><td>2018 </td><td>2019 </td><td>2020 </td><td>2021 </td><td>2022 </td><td>NA</td><td>NA</td><td>NA</td><td>NA</td><td>NA</td><td>NA</td><td>NA</td></tr>\n",
       "\t<tr><td>All-items                    </td><td>122.8</td><td>125.2</td><td>126.6</td><td>128.4</td><td>130.4</td><td>133.4</td><td>136.0</td><td>137.0</td><td>141.6</td><td>151.2</td><td>NA</td><td>NA</td><td>NA</td><td>NA</td><td>NA</td><td>NA</td><td>NA</td></tr>\n",
       "\t<tr><td>Food 5                       </td><td>132.4</td><td>135.5</td><td>140.5</td><td>142.6</td><td>142.7</td><td>145.3</td><td>150.2</td><td>153.7</td><td>157.5</td><td>171.5</td><td>NA</td><td>NA</td><td>NA</td><td>NA</td><td>NA</td><td>NA</td><td>NA</td></tr>\n",
       "\t<tr><td>⋮</td><td>⋮</td><td>⋮</td><td>⋮</td><td>⋮</td><td>⋮</td><td>⋮</td><td>⋮</td><td>⋮</td><td>⋮</td><td>⋮</td><td>⋮</td><td>⋮</td><td>⋮</td><td>⋮</td><td>⋮</td><td>⋮</td><td>⋮</td></tr>\n",
       "\t<tr><td>Services 9</td><td>131.0                                                                                                                                                                                                                                                      </td><td>133.7        </td><td>136.4                     </td><td>138.9                     </td><td>142.0                  </td><td>145.8                                             </td><td>149.2                     </td><td>151.3      </td><td>154.8                 </td><td>162.6                   </td><td>NA                                                                                                                                                                                                                                                                          </td><td>NA                                                                                                                                                                                                                                                                                              </td><td>NA      </td><td>NA     </td><td>NA        </td><td>NA                                                                                                                                                                     </td><td>NA                                           </td></tr>\n",
       "\t<tr><td>4         </td><td>The goods and services that make up the Consumer Price Index (CPI) are organized according to a hierarchical structure with the all-items CPI\" as the top level. Eight major components of goods and services make up the \"all-items CPI\". They are: \"food\"</td><td>\"shelter\"    </td><td>\"household operations     </td><td>furnishings and equipment\"</td><td>\"clothing and footwear\"</td><td>\"transportation\"                                  </td><td>\"health and personal care\"</td><td>\"recreation</td><td>education and reading\"</td><td>and \"alcoholic beverages</td><td>tobacco products and recreational cannabis\". These eight components are broken down into a varying number of sub-groups which are in turn broken down into other sub-groups. Indents are used to identify the components that make up each level of aggregation. For example</td><td>the eight major components appear with one indent relative to the \"all-items CPI\" to show that they are combined to obtain the \"all-items CPI\". NOTE: Some items are recombined outside the main structure of the CPI to obtain special aggregates such as \"all-items excluding food and energy\"</td><td>\"energy\"</td><td>\"goods\"</td><td>\"services\"</td><td>or \"fresh fruit and vegetables\". They are listed after the components of the main structure of the CPI following the last major component entitled \"alcoholic beverages</td><td>tobacco products and recreational cannabis\".\"</td></tr>\n",
       "\t<tr><td>7         </td><td>The special aggregate energy\" includes: \"electricity\"                                                                                                                                                                                                      </td><td>\"natural gas\"</td><td>\"fuel oil and other fuels\"</td><td>\"gasoline\"                </td><td>and \"fuel              </td><td>parts and accessories for recreational vehicles\".\"</td><td>NA                        </td><td>NA         </td><td>NA                    </td><td>NA                      </td><td>NA                                                                                                                                                                                                                                                                          </td><td>NA                                                                                                                                                                                                                                                                                              </td><td>NA      </td><td>NA     </td><td>NA        </td><td>NA                                                                                                                                                                     </td><td>NA                                           </td></tr>\n",
       "</tbody>\n",
       "</table>\n"
      ],
      "text/latex": [
       "A spec\\_tbl\\_df: 18 × 18\n",
       "\\begin{tabular}{llllllllllllllllll}\n",
       " ...1 & ...2 & ...3 & ...4 & ...5 & ...6 & ...7 & ...8 & ...9 & ...10 & ...11 & ...12 & ...13 & ...14 & ...15 & ...16 & ...17 & ...18\\\\\n",
       " <chr> & <chr> & <chr> & <chr> & <chr> & <chr> & <chr> & <chr> & <chr> & <chr> & <chr> & <chr> & <chr> & <chr> & <chr> & <chr> & <chr> & <chr>\\\\\n",
       "\\hline\n",
       "\t Products and product groups 4 & 2013  & 2014  & 2015  & 2016  & 2017  & 2018  & 2019  & 2020  & 2021  & 2022  & NA & NA & NA & NA & NA & NA & NA\\\\\n",
       "\t All-items                     & 122.8 & 125.2 & 126.6 & 128.4 & 130.4 & 133.4 & 136.0 & 137.0 & 141.6 & 151.2 & NA & NA & NA & NA & NA & NA & NA\\\\\n",
       "\t Food 5                        & 132.4 & 135.5 & 140.5 & 142.6 & 142.7 & 145.3 & 150.2 & 153.7 & 157.5 & 171.5 & NA & NA & NA & NA & NA & NA & NA\\\\\n",
       "\t ⋮ & ⋮ & ⋮ & ⋮ & ⋮ & ⋮ & ⋮ & ⋮ & ⋮ & ⋮ & ⋮ & ⋮ & ⋮ & ⋮ & ⋮ & ⋮ & ⋮ & ⋮\\\\\n",
       "\t Services 9 & 131.0                                                                                                                                                                                                                                                       & 133.7         & 136.4                      & 138.9                      & 142.0                   & 145.8                                              & 149.2                      & 151.3       & 154.8                  & 162.6                    & NA                                                                                                                                                                                                                                                                           & NA                                                                                                                                                                                                                                                                                               & NA       & NA      & NA         & NA                                                                                                                                                                      & NA                                           \\\\\n",
       "\t 4          & The goods and services that make up the Consumer Price Index (CPI) are organized according to a hierarchical structure with the all-items CPI\" as the top level. Eight major components of goods and services make up the \"all-items CPI\". They are: \"food\" & \"shelter\"     & \"household operations      & furnishings and equipment\" & \"clothing and footwear\" & \"transportation\"                                   & \"health and personal care\" & \"recreation & education and reading\" & and \"alcoholic beverages & tobacco products and recreational cannabis\". These eight components are broken down into a varying number of sub-groups which are in turn broken down into other sub-groups. Indents are used to identify the components that make up each level of aggregation. For example & the eight major components appear with one indent relative to the \"all-items CPI\" to show that they are combined to obtain the \"all-items CPI\". NOTE: Some items are recombined outside the main structure of the CPI to obtain special aggregates such as \"all-items excluding food and energy\" & \"energy\" & \"goods\" & \"services\" & or \"fresh fruit and vegetables\". They are listed after the components of the main structure of the CPI following the last major component entitled \"alcoholic beverages & tobacco products and recreational cannabis\".\"\\\\\n",
       "\t 7          & The special aggregate energy\" includes: \"electricity\"                                                                                                                                                                                                       & \"natural gas\" & \"fuel oil and other fuels\" & \"gasoline\"                 & and \"fuel               & parts and accessories for recreational vehicles\".\" & NA                         & NA          & NA                     & NA                       & NA                                                                                                                                                                                                                                                                           & NA                                                                                                                                                                                                                                                                                               & NA       & NA      & NA         & NA                                                                                                                                                                      & NA                                           \\\\\n",
       "\\end{tabular}\n"
      ],
      "text/markdown": [
       "\n",
       "A spec_tbl_df: 18 × 18\n",
       "\n",
       "| ...1 &lt;chr&gt; | ...2 &lt;chr&gt; | ...3 &lt;chr&gt; | ...4 &lt;chr&gt; | ...5 &lt;chr&gt; | ...6 &lt;chr&gt; | ...7 &lt;chr&gt; | ...8 &lt;chr&gt; | ...9 &lt;chr&gt; | ...10 &lt;chr&gt; | ...11 &lt;chr&gt; | ...12 &lt;chr&gt; | ...13 &lt;chr&gt; | ...14 &lt;chr&gt; | ...15 &lt;chr&gt; | ...16 &lt;chr&gt; | ...17 &lt;chr&gt; | ...18 &lt;chr&gt; |\n",
       "|---|---|---|---|---|---|---|---|---|---|---|---|---|---|---|---|---|---|\n",
       "| Products and product groups 4 | 2013  | 2014  | 2015  | 2016  | 2017  | 2018  | 2019  | 2020  | 2021  | 2022  | NA | NA | NA | NA | NA | NA | NA |\n",
       "| All-items                     | 122.8 | 125.2 | 126.6 | 128.4 | 130.4 | 133.4 | 136.0 | 137.0 | 141.6 | 151.2 | NA | NA | NA | NA | NA | NA | NA |\n",
       "| Food 5                        | 132.4 | 135.5 | 140.5 | 142.6 | 142.7 | 145.3 | 150.2 | 153.7 | 157.5 | 171.5 | NA | NA | NA | NA | NA | NA | NA |\n",
       "| ⋮ | ⋮ | ⋮ | ⋮ | ⋮ | ⋮ | ⋮ | ⋮ | ⋮ | ⋮ | ⋮ | ⋮ | ⋮ | ⋮ | ⋮ | ⋮ | ⋮ | ⋮ |\n",
       "| Services 9 | 131.0                                                                                                                                                                                                                                                       | 133.7         | 136.4                      | 138.9                      | 142.0                   | 145.8                                              | 149.2                      | 151.3       | 154.8                  | 162.6                    | NA                                                                                                                                                                                                                                                                           | NA                                                                                                                                                                                                                                                                                               | NA       | NA      | NA         | NA                                                                                                                                                                      | NA                                            |\n",
       "| 4          | The goods and services that make up the Consumer Price Index (CPI) are organized according to a hierarchical structure with the all-items CPI\" as the top level. Eight major components of goods and services make up the \"all-items CPI\". They are: \"food\" | \"shelter\"     | \"household operations      | furnishings and equipment\" | \"clothing and footwear\" | \"transportation\"                                   | \"health and personal care\" | \"recreation | education and reading\" | and \"alcoholic beverages | tobacco products and recreational cannabis\". These eight components are broken down into a varying number of sub-groups which are in turn broken down into other sub-groups. Indents are used to identify the components that make up each level of aggregation. For example | the eight major components appear with one indent relative to the \"all-items CPI\" to show that they are combined to obtain the \"all-items CPI\". NOTE: Some items are recombined outside the main structure of the CPI to obtain special aggregates such as \"all-items excluding food and energy\" | \"energy\" | \"goods\" | \"services\" | or \"fresh fruit and vegetables\". They are listed after the components of the main structure of the CPI following the last major component entitled \"alcoholic beverages | tobacco products and recreational cannabis\".\" |\n",
       "| 7          | The special aggregate energy\" includes: \"electricity\"                                                                                                                                                                                                       | \"natural gas\" | \"fuel oil and other fuels\" | \"gasoline\"                 | and \"fuel               | parts and accessories for recreational vehicles\".\" | NA                         | NA          | NA                     | NA                       | NA                                                                                                                                                                                                                                                                           | NA                                                                                                                                                                                                                                                                                               | NA       | NA      | NA         | NA                                                                                                                                                                      | NA                                            |\n",
       "\n"
      ],
      "text/plain": [
       "   ...1                         \n",
       "1  Products and product groups 4\n",
       "2  All-items                    \n",
       "3  Food 5                       \n",
       "⋮  ⋮                            \n",
       "16 Services 9                   \n",
       "17 4                            \n",
       "18 7                            \n",
       "   ...2                                                                                                                                                                                                                                                       \n",
       "1  2013                                                                                                                                                                                                                                                       \n",
       "2  122.8                                                                                                                                                                                                                                                      \n",
       "3  132.4                                                                                                                                                                                                                                                      \n",
       "⋮  ⋮                                                                                                                                                                                                                                                          \n",
       "16 131.0                                                                                                                                                                                                                                                      \n",
       "17 The goods and services that make up the Consumer Price Index (CPI) are organized according to a hierarchical structure with the all-items CPI\" as the top level. Eight major components of goods and services make up the \"all-items CPI\". They are: \"food\"\n",
       "18 The special aggregate energy\" includes: \"electricity\"                                                                                                                                                                                                      \n",
       "   ...3          ...4                       ...5                      \n",
       "1  2014          2015                       2016                      \n",
       "2  125.2         126.6                      128.4                     \n",
       "3  135.5         140.5                      142.6                     \n",
       "⋮  ⋮             ⋮                          ⋮                         \n",
       "16 133.7         136.4                      138.9                     \n",
       "17 \"shelter\"     \"household operations      furnishings and equipment\"\n",
       "18 \"natural gas\" \"fuel oil and other fuels\" \"gasoline\"                \n",
       "   ...6                    ...7                                              \n",
       "1  2017                    2018                                              \n",
       "2  130.4                   133.4                                             \n",
       "3  142.7                   145.3                                             \n",
       "⋮  ⋮                       ⋮                                                 \n",
       "16 142.0                   145.8                                             \n",
       "17 \"clothing and footwear\" \"transportation\"                                  \n",
       "18 and \"fuel               parts and accessories for recreational vehicles\".\"\n",
       "   ...8                       ...9        ...10                 \n",
       "1  2019                       2020        2021                  \n",
       "2  136.0                      137.0       141.6                 \n",
       "3  150.2                      153.7       157.5                 \n",
       "⋮  ⋮                          ⋮           ⋮                     \n",
       "16 149.2                      151.3       154.8                 \n",
       "17 \"health and personal care\" \"recreation education and reading\"\n",
       "18 NA                         NA          NA                    \n",
       "   ...11                   \n",
       "1  2022                    \n",
       "2  151.2                   \n",
       "3  171.5                   \n",
       "⋮  ⋮                       \n",
       "16 162.6                   \n",
       "17 and \"alcoholic beverages\n",
       "18 NA                      \n",
       "   ...12                                                                                                                                                                                                                                                                       \n",
       "1  NA                                                                                                                                                                                                                                                                          \n",
       "2  NA                                                                                                                                                                                                                                                                          \n",
       "3  NA                                                                                                                                                                                                                                                                          \n",
       "⋮  ⋮                                                                                                                                                                                                                                                                           \n",
       "16 NA                                                                                                                                                                                                                                                                          \n",
       "17 tobacco products and recreational cannabis\". These eight components are broken down into a varying number of sub-groups which are in turn broken down into other sub-groups. Indents are used to identify the components that make up each level of aggregation. For example\n",
       "18 NA                                                                                                                                                                                                                                                                          \n",
       "   ...13                                                                                                                                                                                                                                                                                           \n",
       "1  NA                                                                                                                                                                                                                                                                                              \n",
       "2  NA                                                                                                                                                                                                                                                                                              \n",
       "3  NA                                                                                                                                                                                                                                                                                              \n",
       "⋮  ⋮                                                                                                                                                                                                                                                                                               \n",
       "16 NA                                                                                                                                                                                                                                                                                              \n",
       "17 the eight major components appear with one indent relative to the \"all-items CPI\" to show that they are combined to obtain the \"all-items CPI\". NOTE: Some items are recombined outside the main structure of the CPI to obtain special aggregates such as \"all-items excluding food and energy\"\n",
       "18 NA                                                                                                                                                                                                                                                                                              \n",
       "   ...14    ...15   ...16     \n",
       "1  NA       NA      NA        \n",
       "2  NA       NA      NA        \n",
       "3  NA       NA      NA        \n",
       "⋮  ⋮        ⋮       ⋮         \n",
       "16 NA       NA      NA        \n",
       "17 \"energy\" \"goods\" \"services\"\n",
       "18 NA       NA      NA        \n",
       "   ...17                                                                                                                                                                  \n",
       "1  NA                                                                                                                                                                     \n",
       "2  NA                                                                                                                                                                     \n",
       "3  NA                                                                                                                                                                     \n",
       "⋮  ⋮                                                                                                                                                                      \n",
       "16 NA                                                                                                                                                                     \n",
       "17 or \"fresh fruit and vegetables\". They are listed after the components of the main structure of the CPI following the last major component entitled \"alcoholic beverages\n",
       "18 NA                                                                                                                                                                     \n",
       "   ...18                                        \n",
       "1  NA                                           \n",
       "2  NA                                           \n",
       "3  NA                                           \n",
       "⋮  ⋮                                            \n",
       "16 NA                                           \n",
       "17 tobacco products and recreational cannabis\".\"\n",
       "18 NA                                           "
      ]
     },
     "metadata": {},
     "output_type": "display_data"
    }
   ],
   "source": [
    "cpi<-read_csv(\"cpi.csv\",skip = 7)|>\n",
    "filter(!is.na(...5))\n",
    "cpi"
   ]
  },
  {
   "cell_type": "code",
   "execution_count": 6,
   "id": "958dcb67-e59f-4957-9dc5-805987827281",
   "metadata": {},
   "outputs": [
    {
     "name": "stderr",
     "output_type": "stream",
     "text": [
      "\u001b[1m\u001b[22mNew names:\n",
      "\u001b[36m•\u001b[39m `` -> `...3`\n",
      "\u001b[36m•\u001b[39m `` -> `...4`\n",
      "\u001b[36m•\u001b[39m `` -> `...5`\n",
      "\u001b[36m•\u001b[39m `` -> `...6`\n",
      "\u001b[36m•\u001b[39m `` -> `...7`\n",
      "\u001b[36m•\u001b[39m `` -> `...8`\n",
      "\u001b[36m•\u001b[39m `` -> `...9`\n",
      "\u001b[36m•\u001b[39m `` -> `...10`\n",
      "\u001b[36m•\u001b[39m `` -> `...11`\n",
      "Warning message:\n",
      "“One or more parsing issues, see `problems()` for details”\n",
      "\u001b[1mRows: \u001b[22m\u001b[34m27\u001b[39m \u001b[1mColumns: \u001b[22m\u001b[34m11\u001b[39m\n",
      "\u001b[36m──\u001b[39m \u001b[1mColumn specification\u001b[22m \u001b[36m────────────────────────────────────────────────────────\u001b[39m\n",
      "\u001b[1mDelimiter:\u001b[22m \",\"\n",
      "\u001b[31mchr\u001b[39m (2): Geography 3, Canada\n",
      "\u001b[32mdbl\u001b[39m (9): ...3, ...4, ...5, ...6, ...7, ...8, ...9, ...10, ...11\n",
      "\n",
      "\u001b[36mℹ\u001b[39m Use `spec()` to retrieve the full column specification for this data.\n",
      "\u001b[36mℹ\u001b[39m Specify the column types or set `show_col_types = FALSE` to quiet this message.\n"
     ]
    },
    {
     "data": {
      "text/html": [
       "<table class=\"dataframe\">\n",
       "<caption>A spec_tbl_df: 10 × 11</caption>\n",
       "<thead>\n",
       "\t<tr><th scope=col>Geography 3</th><th scope=col>Canada</th><th scope=col>...3</th><th scope=col>...4</th><th scope=col>...5</th><th scope=col>...6</th><th scope=col>...7</th><th scope=col>...8</th><th scope=col>...9</th><th scope=col>...10</th><th scope=col>...11</th></tr>\n",
       "\t<tr><th scope=col>&lt;chr&gt;</th><th scope=col>&lt;chr&gt;</th><th scope=col>&lt;dbl&gt;</th><th scope=col>&lt;dbl&gt;</th><th scope=col>&lt;dbl&gt;</th><th scope=col>&lt;dbl&gt;</th><th scope=col>&lt;dbl&gt;</th><th scope=col>&lt;dbl&gt;</th><th scope=col>&lt;dbl&gt;</th><th scope=col>&lt;dbl&gt;</th><th scope=col>&lt;dbl&gt;</th></tr>\n",
       "</thead>\n",
       "<tbody>\n",
       "\t<tr><td>Educational attainment 5   </td><td>2013</td><td>2014.0</td><td>2015.0</td><td>2016.0</td><td>2017.0</td><td>2018.0</td><td>2019.0</td><td>2020.0</td><td>2021.0</td><td>2022.0</td></tr>\n",
       "\t<tr><td>Total, all education levels</td><td>7.1 </td><td>   7.0</td><td>   6.9</td><td>   7.0</td><td>   6.4</td><td>   5.8</td><td>   5.7</td><td>   9.7</td><td>   7.5</td><td>   5.3</td></tr>\n",
       "\t<tr><td>0 to 8  years 6            </td><td>14.2</td><td>  13.3</td><td>  12.3</td><td>  13.2</td><td>  11.1</td><td>  10.6</td><td>   9.7</td><td>  13.5</td><td>  11.5</td><td>   9.3</td></tr>\n",
       "\t<tr><td>⋮</td><td>⋮</td><td>⋮</td><td>⋮</td><td>⋮</td><td>⋮</td><td>⋮</td><td>⋮</td><td>⋮</td><td>⋮</td><td>⋮</td></tr>\n",
       "\t<tr><td>University degree 11   </td><td>4.8</td><td>5</td><td>4.8</td><td>5.0</td><td>4.5</td><td>4.3</td><td>4.2</td><td>6.8</td><td>5.1</td><td>3.9</td></tr>\n",
       "\t<tr><td>Bachelor's degree      </td><td>4.9</td><td>5</td><td>4.7</td><td>5.0</td><td>4.6</td><td>4.4</td><td>4.2</td><td>7.1</td><td>5.4</td><td>4.0</td></tr>\n",
       "\t<tr><td>Above bachelor's degree</td><td>4.5</td><td>5</td><td>4.9</td><td>5.1</td><td>4.3</td><td>4.2</td><td>4.0</td><td>6.1</td><td>4.5</td><td>3.5</td></tr>\n",
       "</tbody>\n",
       "</table>\n"
      ],
      "text/latex": [
       "A spec\\_tbl\\_df: 10 × 11\n",
       "\\begin{tabular}{lllllllllll}\n",
       " Geography 3 & Canada & ...3 & ...4 & ...5 & ...6 & ...7 & ...8 & ...9 & ...10 & ...11\\\\\n",
       " <chr> & <chr> & <dbl> & <dbl> & <dbl> & <dbl> & <dbl> & <dbl> & <dbl> & <dbl> & <dbl>\\\\\n",
       "\\hline\n",
       "\t Educational attainment 5    & 2013 & 2014.0 & 2015.0 & 2016.0 & 2017.0 & 2018.0 & 2019.0 & 2020.0 & 2021.0 & 2022.0\\\\\n",
       "\t Total, all education levels & 7.1  &    7.0 &    6.9 &    7.0 &    6.4 &    5.8 &    5.7 &    9.7 &    7.5 &    5.3\\\\\n",
       "\t 0 to 8  years 6             & 14.2 &   13.3 &   12.3 &   13.2 &   11.1 &   10.6 &    9.7 &   13.5 &   11.5 &    9.3\\\\\n",
       "\t ⋮ & ⋮ & ⋮ & ⋮ & ⋮ & ⋮ & ⋮ & ⋮ & ⋮ & ⋮ & ⋮\\\\\n",
       "\t University degree 11    & 4.8 & 5 & 4.8 & 5.0 & 4.5 & 4.3 & 4.2 & 6.8 & 5.1 & 3.9\\\\\n",
       "\t Bachelor's degree       & 4.9 & 5 & 4.7 & 5.0 & 4.6 & 4.4 & 4.2 & 7.1 & 5.4 & 4.0\\\\\n",
       "\t Above bachelor's degree & 4.5 & 5 & 4.9 & 5.1 & 4.3 & 4.2 & 4.0 & 6.1 & 4.5 & 3.5\\\\\n",
       "\\end{tabular}\n"
      ],
      "text/markdown": [
       "\n",
       "A spec_tbl_df: 10 × 11\n",
       "\n",
       "| Geography 3 &lt;chr&gt; | Canada &lt;chr&gt; | ...3 &lt;dbl&gt; | ...4 &lt;dbl&gt; | ...5 &lt;dbl&gt; | ...6 &lt;dbl&gt; | ...7 &lt;dbl&gt; | ...8 &lt;dbl&gt; | ...9 &lt;dbl&gt; | ...10 &lt;dbl&gt; | ...11 &lt;dbl&gt; |\n",
       "|---|---|---|---|---|---|---|---|---|---|---|\n",
       "| Educational attainment 5    | 2013 | 2014.0 | 2015.0 | 2016.0 | 2017.0 | 2018.0 | 2019.0 | 2020.0 | 2021.0 | 2022.0 |\n",
       "| Total, all education levels | 7.1  |    7.0 |    6.9 |    7.0 |    6.4 |    5.8 |    5.7 |    9.7 |    7.5 |    5.3 |\n",
       "| 0 to 8  years 6             | 14.2 |   13.3 |   12.3 |   13.2 |   11.1 |   10.6 |    9.7 |   13.5 |   11.5 |    9.3 |\n",
       "| ⋮ | ⋮ | ⋮ | ⋮ | ⋮ | ⋮ | ⋮ | ⋮ | ⋮ | ⋮ | ⋮ |\n",
       "| University degree 11    | 4.8 | 5 | 4.8 | 5.0 | 4.5 | 4.3 | 4.2 | 6.8 | 5.1 | 3.9 |\n",
       "| Bachelor's degree       | 4.9 | 5 | 4.7 | 5.0 | 4.6 | 4.4 | 4.2 | 7.1 | 5.4 | 4.0 |\n",
       "| Above bachelor's degree | 4.5 | 5 | 4.9 | 5.1 | 4.3 | 4.2 | 4.0 | 6.1 | 4.5 | 3.5 |\n",
       "\n"
      ],
      "text/plain": [
       "   Geography 3                 Canada ...3   ...4   ...5   ...6   ...7   ...8  \n",
       "1  Educational attainment 5    2013   2014.0 2015.0 2016.0 2017.0 2018.0 2019.0\n",
       "2  Total, all education levels 7.1       7.0    6.9    7.0    6.4    5.8    5.7\n",
       "3  0 to 8  years 6             14.2     13.3   12.3   13.2   11.1   10.6    9.7\n",
       "⋮  ⋮                           ⋮      ⋮      ⋮      ⋮      ⋮      ⋮      ⋮     \n",
       "8  University degree 11        4.8    5      4.8    5.0    4.5    4.3    4.2   \n",
       "9  Bachelor's degree           4.9    5      4.7    5.0    4.6    4.4    4.2   \n",
       "10 Above bachelor's degree     4.5    5      4.9    5.1    4.3    4.2    4.0   \n",
       "   ...9   ...10  ...11 \n",
       "1  2020.0 2021.0 2022.0\n",
       "2     9.7    7.5    5.3\n",
       "3    13.5   11.5    9.3\n",
       "⋮  ⋮      ⋮      ⋮     \n",
       "8  6.8    5.1    3.9   \n",
       "9  7.1    5.4    4.0   \n",
       "10 6.1    4.5    3.5   "
      ]
     },
     "metadata": {},
     "output_type": "display_data"
    }
   ],
   "source": [
    "unemployment<-read_csv(\"unemployment.csv\",skip = 7)|>\n",
    "filter(!is.na(...3))\n",
    "unemployment"
   ]
  },
  {
   "cell_type": "markdown",
   "id": "74475f73-b942-4464-88a5-322815cebadd",
   "metadata": {},
   "source": [
    "Methods:\n",
    "\n",
    "We will use publicly available Economic data from Statistics Canada, with obersvations including the years 2013-2022 annually. The variables we are concerned with are Real GNI, unadjusted CPI, current account, and  aggregate unemployment rate (all annual data). In particular, the predictors would be CPI, current account and unemployment rate, while the response variable would be Real GNI. We are going to split the data into training set (2013-2019) and testing set (2020,2021,2022). We will carry out regression analysis using the k-nearest neighbours algorithm, with 5-fold cross-validation on the training set, pick the optimal k-value, and carry out predictions on Real GNI in 2020,2021,2022. We will then evaluate the accuracy of our prediction model by computing its root mean squared prediction error, and determine if the three independent variables are strong predictors of GNI. "
   ]
  },
  {
   "cell_type": "code",
   "execution_count": null,
   "id": "bcf26f2a-3752-4044-8cf5-1d8d1f904ce4",
   "metadata": {},
   "outputs": [],
   "source": []
  },
  {
   "cell_type": "code",
   "execution_count": null,
   "id": "2e581230-4969-43bd-8e3b-2ff1c4253d92",
   "metadata": {},
   "outputs": [],
   "source": []
  }
 ],
 "metadata": {
  "kernelspec": {
   "display_name": "R",
   "language": "R",
   "name": "ir"
  },
  "language_info": {
   "codemirror_mode": "r",
   "file_extension": ".r",
   "mimetype": "text/x-r-source",
   "name": "R",
   "pygments_lexer": "r",
   "version": "4.1.3"
  }
 },
 "nbformat": 4,
 "nbformat_minor": 5
}

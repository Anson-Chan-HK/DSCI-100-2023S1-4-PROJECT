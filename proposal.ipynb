{
 "cells": [
  {
   "cell_type": "markdown",
   "id": "f8af03b9-614c-464d-a705-6f1798d8a745",
   "metadata": {},
   "source": [
    "Title: The Prediction of Gross National Income of Canada in 2022 from the datasets of 2013-2021\n",
    "\n",
    "GNI: Gross National Income, which is the aggregate income of residents of an economy in a particular year.\n",
    "\n",
    "CPI: Consumer Price Index, which is the price level of an economy by calculating the indexed price of a basket of goods and services a typical consumer of an economy purchases.\n",
    "\n",
    "Current Account: Net goods and services outflow of an economy in a particular year. \n",
    "\n",
    "Unemployment rate: Total unemployment persons over total labour force of an economy in a particular year.\n",
    "\n"
   ]
  }
 ],
 "metadata": {
  "kernelspec": {
   "display_name": "R",
   "language": "R",
   "name": "ir"
  },
  "language_info": {
   "codemirror_mode": "r",
   "file_extension": ".r",
   "mimetype": "text/x-r-source",
   "name": "R",
   "pygments_lexer": "r",
   "version": "4.1.3"
  }
 },
 "nbformat": 4,
 "nbformat_minor": 5
}

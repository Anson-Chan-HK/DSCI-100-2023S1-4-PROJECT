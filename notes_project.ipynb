{
 "cells": [
  {
   "cell_type": "markdown",
   "id": "829c6272-0131-41ae-af84-ffffbf5736fa",
   "metadata": {},
   "source": [
    "Project rundown\n",
    "\n"
   ]
  },
  {
   "cell_type": "markdown",
   "id": "6506ce41-8bb8-4908-bab8-988dbc2729c9",
   "metadata": {},
   "source": [
    "Things to complete in our FINAL PROJECT\n",
    "\n",
    "library\n",
    "Read and load the files\n",
    "regression analysis (cross-validation, standard error, prediction, visualization)\n",
    "written report on what the processes are\n",
    "results\n",
    "implications"
   ]
  },
  {
   "cell_type": "markdown",
   "id": "17698aa9-64a2-49cd-8edd-518d4612ca88",
   "metadata": {},
   "source": [
    "\n",
    "plot for each variable separately plot_beds <- sacramento |> ggplot(aes(x = beds, y = price)) + geom_point(alpha = 0.4) + labs(x = 'Number of Bedrooms', y = 'Price (USD)') + theme(text = element_text(size = 12)) plot_beds\n",
    "\n",
    "split data sacramento_split <- initial_split(sacramento, prop = 0.75, strata = price) sacramento_train <- training(sacramento_split) sacramento_test <- testing(sacramento_split)\n",
    "\n",
    "create recipe, a specification for k sacr_recipe <- recipe(price ~ sqft + beds, data = sacramento_train) |> step_scale(all_predictors()) |> step_center(all_predictors())\n",
    "\n",
    "sacr_spec <- nearest_neighbor(weight_func = \"rectangular\", neighbors = tune()) |> set_engine(\"kknn\") |> set_mode(\"regression\")\n",
    "\n",
    "5-fold cross-validation, choose the number of neighbors via the minimum RMSPE: sacr_vfold <- vfold_cv(sacramento_train, v = 5, strata = price) gridvals <- tibble(neighbors = seq(1, 200))\n",
    "sacr_multi <- workflow() |> add_recipe(sacr_recipe) |> add_model(sacr_spec) |> tune_grid(sacr_vfold, grid = gridvals) |> collect_metrics() |> filter(.metric == \"rmse\") |> filter(mean == min(mean))\n",
    "\n",
    "sacr_k <- sacr_multi |> pull(neighbors) sacr_multi\n",
    "\n",
    "Choose the optimal K to run the full analyis on test set sacr_spec <- nearest_neighbor(weight_func = \"rectangular\", neighbors = sacr_k) |> set_engine(\"kknn\") |> set_mode(\"regression\")\n",
    "knn_mult_fit <- workflow() |> add_recipe(sacr_recipe) |> add_model(sacr_spec) |> fit(data = sacramento_train)\n",
    "\n",
    "knn_mult_preds <- knn_mult_fit |> predict(sacramento_test) |> bind_cols(sacramento_test)\n",
    "\n",
    "knn_mult_mets <- metrics(knn_mult_preds, truth = price, estimate = .pred) |> filter(.metric == 'rmse')\n",
    "\n",
    "knn_mult_mets"
   ]
  },
  {
   "cell_type": "code",
   "execution_count": null,
   "id": "2a477c87-395b-4096-9829-94458b271352",
   "metadata": {},
   "outputs": [],
   "source": []
  }
 ],
 "metadata": {
  "kernelspec": {
   "display_name": "R",
   "language": "R",
   "name": "ir"
  },
  "language_info": {
   "codemirror_mode": "r",
   "file_extension": ".r",
   "mimetype": "text/x-r-source",
   "name": "R",
   "pygments_lexer": "r",
   "version": "4.1.3"
  }
 },
 "nbformat": 4,
 "nbformat_minor": 5
}

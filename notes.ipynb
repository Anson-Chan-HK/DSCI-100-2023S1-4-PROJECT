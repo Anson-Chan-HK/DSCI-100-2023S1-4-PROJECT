{
 "cells": [
  {
   "cell_type": "code",
   "execution_count": null,
   "id": "7e065171-74d4-40bd-a8dc-ddd662d80649",
   "metadata": {},
   "outputs": [],
   "source": [
    "Predictive question: \n",
    "Using CPI, Current account, and unemployment rate to predict Real GNI of 2020, 2021, 2022 \n",
    "using regression analysis 2013-2019\n",
    "\n",
    "Model: regression\n",
    "\n",
    "Variables:\n",
    "\n",
    "Real GNI, annually, Canada, 2013-2022\n",
    "gni.csv\n",
    "\n",
    "CPI, unadjusted, 2013-2022\n",
    "cpi.csv\n",
    "\n",
    "Current account, annual, Canada, 2013-2022\n",
    "current_account.csv\n",
    "\n",
    "Unemployment rate, age 15 or above, Canada, both sexes, 2013-2022\n",
    "unemployment.csv"
   ]
  }
 ],
 "metadata": {
  "kernelspec": {
   "display_name": "R",
   "language": "R",
   "name": "ir"
  },
  "language_info": {
   "codemirror_mode": "r",
   "file_extension": ".r",
   "mimetype": "text/x-r-source",
   "name": "R",
   "pygments_lexer": "r",
   "version": "4.1.3"
  }
 },
 "nbformat": 4,
 "nbformat_minor": 5
}

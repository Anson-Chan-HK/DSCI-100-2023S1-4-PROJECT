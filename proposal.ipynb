{
 "cells": [
  {
   "cell_type": "markdown",
   "id": "f8af03b9-614c-464d-a705-6f1798d8a745",
   "metadata": {},
   "source": [
    "Title: The Prediction of Gross National Income of Canada in 2020, 2021 and 2022 from the datasets of 2013-2019\n",
    "\n",
    "Terminology \n",
    "- GNI: Gross National Income, which is the aggregate income of residents of an economy in a particular year.\n",
    "- CPI: Consumer Price Index, which is the price level of an economy by calculating the indexed price of a basket of goods and services a typical consumer of an economy purchases.\n",
    "- Current Account: Net goods and services outflow of an economy in a particular year. \n",
    "- Unemployment rate: Total unemployment persons over total labour force of an economy in a particular year.\n",
    "\n",
    "\n",
    "    We are trying to predict the Real Gross National Income (GNI) of Canada in 2020, 2021 and 2022 by three variables, namely Consumer Price Index (CPI), current account balance (CA), and unemployment rate. We would do this by running regression analysis of the four variables (including the dependent variable GNI) from 2013-2019. This project is significant because it interacts different macroeconomic variables and any policy manipulation on the three variables could predict changes in GNI, which is one of the best measurements of economic wellbeing. We collected our data from Statistics Canada, which each variables filtered from 2013-2022 only. All data are unadjusted annual data.\n",
    "    \n",
    "    \n",
    "\n",
    "\n"
   ]
  },
  {
   "cell_type": "code",
   "execution_count": 1,
   "id": "db3c02b1-0703-4d5e-9ef6-d8e5a4516a4b",
   "metadata": {},
   "outputs": [
    {
     "name": "stderr",
     "output_type": "stream",
     "text": [
      "── \u001b[1mAttaching packages\u001b[22m ─────────────────────────────────────── tidyverse 1.3.1 ──\n",
      "\n",
      "\u001b[32m✔\u001b[39m \u001b[34mggplot2\u001b[39m 3.3.6     \u001b[32m✔\u001b[39m \u001b[34mpurrr  \u001b[39m 0.3.4\n",
      "\u001b[32m✔\u001b[39m \u001b[34mtibble \u001b[39m 3.1.7     \u001b[32m✔\u001b[39m \u001b[34mdplyr  \u001b[39m 1.0.9\n",
      "\u001b[32m✔\u001b[39m \u001b[34mtidyr  \u001b[39m 1.2.0     \u001b[32m✔\u001b[39m \u001b[34mstringr\u001b[39m 1.4.0\n",
      "\u001b[32m✔\u001b[39m \u001b[34mreadr  \u001b[39m 2.1.2     \u001b[32m✔\u001b[39m \u001b[34mforcats\u001b[39m 0.5.1\n",
      "\n",
      "── \u001b[1mConflicts\u001b[22m ────────────────────────────────────────── tidyverse_conflicts() ──\n",
      "\u001b[31m✖\u001b[39m \u001b[34mdplyr\u001b[39m::\u001b[32mfilter()\u001b[39m masks \u001b[34mstats\u001b[39m::filter()\n",
      "\u001b[31m✖\u001b[39m \u001b[34mdplyr\u001b[39m::\u001b[32mlag()\u001b[39m    masks \u001b[34mstats\u001b[39m::lag()\n",
      "\n"
     ]
    }
   ],
   "source": [
    "library(tidyverse)\n",
    "library(repr)\n",
    "library(readxl)\n",
    "options(repr.matrix.max.rows = 6)"
   ]
  },
  {
   "cell_type": "code",
   "execution_count": 2,
   "id": "7c306720-587e-485e-b3c1-8b075961fdfe",
   "metadata": {},
   "outputs": [
    {
     "name": "stderr",
     "output_type": "stream",
     "text": [
      "\u001b[1m\u001b[22mNew names:\n",
      "\u001b[36m•\u001b[39m `` -> `...1`\n",
      "\u001b[36m•\u001b[39m `` -> `...2`\n",
      "\u001b[36m•\u001b[39m `` -> `...3`\n",
      "\u001b[36m•\u001b[39m `` -> `...4`\n",
      "\u001b[36m•\u001b[39m `` -> `...5`\n",
      "\u001b[36m•\u001b[39m `` -> `...6`\n",
      "\u001b[36m•\u001b[39m `` -> `...7`\n",
      "\u001b[36m•\u001b[39m `` -> `...8`\n",
      "\u001b[36m•\u001b[39m `` -> `...9`\n",
      "\u001b[36m•\u001b[39m `` -> `...10`\n",
      "\u001b[36m•\u001b[39m `` -> `...11`\n",
      "\u001b[1mRows: \u001b[22m\u001b[34m33\u001b[39m \u001b[1mColumns: \u001b[22m\u001b[34m11\u001b[39m\n",
      "\u001b[36m──\u001b[39m \u001b[1mColumn specification\u001b[22m \u001b[36m────────────────────────────────────────────────────────\u001b[39m\n",
      "\u001b[1mDelimiter:\u001b[22m \",\"\n",
      "\u001b[31mchr\u001b[39m (2): ...1, ...2\n",
      "\u001b[32mdbl\u001b[39m (9): ...3, ...4, ...5, ...6, ...7, ...8, ...9, ...10, ...11\n",
      "\n",
      "\u001b[36mℹ\u001b[39m Use `spec()` to retrieve the full column specification for this data.\n",
      "\u001b[36mℹ\u001b[39m Specify the column types or set `show_col_types = FALSE` to quiet this message.\n"
     ]
    },
    {
     "data": {
      "text/html": [
       "<table class=\"dataframe\">\n",
       "<caption>A spec_tbl_df: 19 × 11</caption>\n",
       "<thead>\n",
       "\t<tr><th scope=col>...1</th><th scope=col>...2</th><th scope=col>...3</th><th scope=col>...4</th><th scope=col>...5</th><th scope=col>...6</th><th scope=col>...7</th><th scope=col>...8</th><th scope=col>...9</th><th scope=col>...10</th><th scope=col>...11</th></tr>\n",
       "\t<tr><th scope=col>&lt;chr&gt;</th><th scope=col>&lt;chr&gt;</th><th scope=col>&lt;dbl&gt;</th><th scope=col>&lt;dbl&gt;</th><th scope=col>&lt;dbl&gt;</th><th scope=col>&lt;dbl&gt;</th><th scope=col>&lt;dbl&gt;</th><th scope=col>&lt;dbl&gt;</th><th scope=col>&lt;dbl&gt;</th><th scope=col>&lt;dbl&gt;</th><th scope=col>&lt;dbl&gt;</th></tr>\n",
       "</thead>\n",
       "<tbody>\n",
       "\t<tr><td>Estimates                                                         </td><td>2013 </td><td>2014.0</td><td>2015.0</td><td>2016</td><td>2017.0</td><td>2018.0</td><td>2019.0</td><td>2020.0</td><td>2021.0</td><td>2022.0</td></tr>\n",
       "\t<tr><td>Real gross domestic product, volume index 2012=100                </td><td>102.3</td><td> 105.3</td><td> 106.0</td><td> 107</td><td> 110.3</td><td> 113.3</td><td> 115.5</td><td> 109.6</td><td> 115.1</td><td> 119.1</td></tr>\n",
       "\t<tr><td>Real gross domestic product, volume index 2012=100, percent change</td><td>2.3  </td><td>   2.9</td><td>   0.7</td><td>   1</td><td>   3.0</td><td>   2.8</td><td>   1.9</td><td>  -5.1</td><td>   5.0</td><td>   3.4</td></tr>\n",
       "\t<tr><td>⋮</td><td>⋮</td><td>⋮</td><td>⋮</td><td>⋮</td><td>⋮</td><td>⋮</td><td>⋮</td><td>⋮</td><td>⋮</td><td>⋮</td></tr>\n",
       "\t<tr><td>Real exchange rate, index 2012=100                    </td><td>99.7 </td><td>101.1</td><td>100.1</td><td> 98.8</td><td> 99.5</td><td>101.1</td><td>100.6</td><td> 96.7</td><td>101.7</td><td>110.8</td></tr>\n",
       "\t<tr><td>Terms of trade, index 2012=100                        </td><td>100.6</td><td> 99.2</td><td> 92.3</td><td> 91.3</td><td> 94.6</td><td> 94.9</td><td> 94.1</td><td> 91.0</td><td>103.9</td><td>109.4</td></tr>\n",
       "\t<tr><td>Real personal disposable income, volume index 2012=100</td><td>103.2</td><td>104.6</td><td>108.1</td><td>107.5</td><td>111.7</td><td>113.3</td><td>116.5</td><td>125.3</td><td>126.8</td><td>126.3</td></tr>\n",
       "</tbody>\n",
       "</table>\n"
      ],
      "text/latex": [
       "A spec\\_tbl\\_df: 19 × 11\n",
       "\\begin{tabular}{lllllllllll}\n",
       " ...1 & ...2 & ...3 & ...4 & ...5 & ...6 & ...7 & ...8 & ...9 & ...10 & ...11\\\\\n",
       " <chr> & <chr> & <dbl> & <dbl> & <dbl> & <dbl> & <dbl> & <dbl> & <dbl> & <dbl> & <dbl>\\\\\n",
       "\\hline\n",
       "\t Estimates                                                          & 2013  & 2014.0 & 2015.0 & 2016 & 2017.0 & 2018.0 & 2019.0 & 2020.0 & 2021.0 & 2022.0\\\\\n",
       "\t Real gross domestic product, volume index 2012=100                 & 102.3 &  105.3 &  106.0 &  107 &  110.3 &  113.3 &  115.5 &  109.6 &  115.1 &  119.1\\\\\n",
       "\t Real gross domestic product, volume index 2012=100, percent change & 2.3   &    2.9 &    0.7 &    1 &    3.0 &    2.8 &    1.9 &   -5.1 &    5.0 &    3.4\\\\\n",
       "\t ⋮ & ⋮ & ⋮ & ⋮ & ⋮ & ⋮ & ⋮ & ⋮ & ⋮ & ⋮ & ⋮\\\\\n",
       "\t Real exchange rate, index 2012=100                     & 99.7  & 101.1 & 100.1 &  98.8 &  99.5 & 101.1 & 100.6 &  96.7 & 101.7 & 110.8\\\\\n",
       "\t Terms of trade, index 2012=100                         & 100.6 &  99.2 &  92.3 &  91.3 &  94.6 &  94.9 &  94.1 &  91.0 & 103.9 & 109.4\\\\\n",
       "\t Real personal disposable income, volume index 2012=100 & 103.2 & 104.6 & 108.1 & 107.5 & 111.7 & 113.3 & 116.5 & 125.3 & 126.8 & 126.3\\\\\n",
       "\\end{tabular}\n"
      ],
      "text/markdown": [
       "\n",
       "A spec_tbl_df: 19 × 11\n",
       "\n",
       "| ...1 &lt;chr&gt; | ...2 &lt;chr&gt; | ...3 &lt;dbl&gt; | ...4 &lt;dbl&gt; | ...5 &lt;dbl&gt; | ...6 &lt;dbl&gt; | ...7 &lt;dbl&gt; | ...8 &lt;dbl&gt; | ...9 &lt;dbl&gt; | ...10 &lt;dbl&gt; | ...11 &lt;dbl&gt; |\n",
       "|---|---|---|---|---|---|---|---|---|---|---|\n",
       "| Estimates                                                          | 2013  | 2014.0 | 2015.0 | 2016 | 2017.0 | 2018.0 | 2019.0 | 2020.0 | 2021.0 | 2022.0 |\n",
       "| Real gross domestic product, volume index 2012=100                 | 102.3 |  105.3 |  106.0 |  107 |  110.3 |  113.3 |  115.5 |  109.6 |  115.1 |  119.1 |\n",
       "| Real gross domestic product, volume index 2012=100, percent change | 2.3   |    2.9 |    0.7 |    1 |    3.0 |    2.8 |    1.9 |   -5.1 |    5.0 |    3.4 |\n",
       "| ⋮ | ⋮ | ⋮ | ⋮ | ⋮ | ⋮ | ⋮ | ⋮ | ⋮ | ⋮ | ⋮ |\n",
       "| Real exchange rate, index 2012=100                     | 99.7  | 101.1 | 100.1 |  98.8 |  99.5 | 101.1 | 100.6 |  96.7 | 101.7 | 110.8 |\n",
       "| Terms of trade, index 2012=100                         | 100.6 |  99.2 |  92.3 |  91.3 |  94.6 |  94.9 |  94.1 |  91.0 | 103.9 | 109.4 |\n",
       "| Real personal disposable income, volume index 2012=100 | 103.2 | 104.6 | 108.1 | 107.5 | 111.7 | 113.3 | 116.5 | 125.3 | 126.8 | 126.3 |\n",
       "\n"
      ],
      "text/plain": [
       "   ...1                                                               ...2 \n",
       "1  Estimates                                                          2013 \n",
       "2  Real gross domestic product, volume index 2012=100                 102.3\n",
       "3  Real gross domestic product, volume index 2012=100, percent change 2.3  \n",
       "⋮  ⋮                                                                  ⋮    \n",
       "17 Real exchange rate, index 2012=100                                 99.7 \n",
       "18 Terms of trade, index 2012=100                                     100.6\n",
       "19 Real personal disposable income, volume index 2012=100             103.2\n",
       "   ...3   ...4   ...5  ...6   ...7   ...8   ...9   ...10  ...11 \n",
       "1  2014.0 2015.0 2016  2017.0 2018.0 2019.0 2020.0 2021.0 2022.0\n",
       "2   105.3  106.0  107   110.3  113.3  115.5  109.6  115.1  119.1\n",
       "3     2.9    0.7    1     3.0    2.8    1.9   -5.1    5.0    3.4\n",
       "⋮  ⋮      ⋮      ⋮     ⋮      ⋮      ⋮      ⋮      ⋮      ⋮     \n",
       "17 101.1  100.1   98.8  99.5  101.1  100.6   96.7  101.7  110.8 \n",
       "18  99.2   92.3   91.3  94.6   94.9   94.1   91.0  103.9  109.4 \n",
       "19 104.6  108.1  107.5 111.7  113.3  116.5  125.3  126.8  126.3 "
      ]
     },
     "metadata": {},
     "output_type": "display_data"
    }
   ],
   "source": [
    "gni<-read_csv(\"gni.csv\",skip=7)|>\n",
    "filter(!is.na(...3))\n",
    "gni"
   ]
  },
  {
   "cell_type": "code",
   "execution_count": null,
   "id": "72fb80f8-da23-497b-8351-96868f03b4e4",
   "metadata": {},
   "outputs": [],
   "source": []
  }
 ],
 "metadata": {
  "kernelspec": {
   "display_name": "R",
   "language": "R",
   "name": "ir"
  },
  "language_info": {
   "codemirror_mode": "r",
   "file_extension": ".r",
   "mimetype": "text/x-r-source",
   "name": "R",
   "pygments_lexer": "r",
   "version": "4.1.3"
  }
 },
 "nbformat": 4,
 "nbformat_minor": 5
}

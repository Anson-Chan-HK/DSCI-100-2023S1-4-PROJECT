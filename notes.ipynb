{
 "cells": [
  {
   "cell_type": "markdown",
   "id": "3b39d885-2dc1-4709-ba91-843c2d3080ac",
   "metadata": {},
   "source": [
    "Predictive question: \n",
    "Using CPI, Current account, and unemployment rate to predict Real GNI of 2020, 2021, 2022 \n",
    "using regression analysis 2013-2019\n",
    "\n",
    "Response variable (Dependent): Real GNI \n",
    "\n",
    "Model: regression\n",
    "\n",
    "Variables:\n",
    "\n",
    "Real GNI, annually, Canada, 2013-2022\n",
    "gni.csv\n",
    "\n",
    "CPI, unadjusted, 2013-2022\n",
    "cpi.csv\n",
    "\n",
    "Current account, annual, Canada, 2013-2022\n",
    "current_account.csv\n",
    "\n",
    "Unemployment rate, age 15 or above, Canada, both sexes, 2013-2022\n",
    "unemployment.csv"
   ]
  },
  {
   "cell_type": "markdown",
   "id": "69a984e0-8701-4f54-978e-9dc9dede51d1",
   "metadata": {},
   "source": [
    "Things to complete in our FINAL PROJECT\n",
    "\n",
    "- library\n",
    "- Read and load the files\n",
    "- merge data\n",
    "- regression analysis (cross-validation, standard error, prediction, visualization)\n",
    "- written report on what the processes are\n",
    "- results\n",
    "- implications\n",
    "\n"
   ]
  }
 ],
 "metadata": {
  "kernelspec": {
   "display_name": "R",
   "language": "R",
   "name": "ir"
  },
  "language_info": {
   "codemirror_mode": "r",
   "file_extension": ".r",
   "mimetype": "text/x-r-source",
   "name": "R",
   "pygments_lexer": "r",
   "version": "4.1.3"
  }
 },
 "nbformat": 4,
 "nbformat_minor": 5
}

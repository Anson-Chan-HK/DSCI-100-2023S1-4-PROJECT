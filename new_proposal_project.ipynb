{
 "cells": [
  {
   "cell_type": "markdown",
   "id": "5f317970-b09b-4d0e-ac0b-cba8f3ac627e",
   "metadata": {},
   "source": [
    "Title: The prediction of the knowledge of users (UNS) by their exam performance for related objects with goal object (LPR), their exam performance for goal object (PEG)"
   ]
  },
  {
   "cell_type": "markdown",
   "id": "f3884c7a-37eb-4d61-b568-e6fac7faddd5",
   "metadata": {},
   "source": [
    "Introduction\n",
    "\n",
    "We are trying to set up a model that answers the predictive question of whether the category of the knowledge level of users (UNS) could be predicted by two variables, their exam performance for related objects with goal object (LPR), their exam performance for goal object (PEG) (both continuous data), in which all of the variables are from the dataset \"modeling_data_xlsx\". We would do this by running classification analysis for the three variables using the k-nearest neighbour algorithm. This could be significant since it could possibly show the relationship between exam scores and users' knowledge level. If this were to be true, then we would learn that we could utilize exams to test someone's knowledge level. Besides, by the correlation results, we could know whether the exam performance of users on goal objects or related objects are better predictors to UNS. This could possibly inspire future users on which object to focus on to optimize their knowledge level."
   ]
  },
  {
   "cell_type": "markdown",
   "id": "44079c5d-d431-4028-b800-137f1cdad04c",
   "metadata": {},
   "source": [
    "Terminology\n",
    "\n",
    "- Response variable:\n",
    "   -  UNS: Categorical variable, represents the knowledge level of the users.\n",
    "\n",
    "- Predictive variables:\n",
    "    - LPR (Learning Performance Rating): Continuous variable, the exam performance of the user for related objects with the goal object.\n",
    "    - PEG: Continuous Variable, the exam performance of the user for goal objects."
   ]
  },
  {
   "cell_type": "markdown",
   "id": "8c676ef8-a579-4564-a6b2-317652e25d5b",
   "metadata": {},
   "source": [
    "Preliminary exploratory data analysis below"
   ]
  },
  {
   "cell_type": "code",
   "execution_count": 22,
   "id": "a3445215-8560-4423-84ba-f0b5d7b1551d",
   "metadata": {},
   "outputs": [],
   "source": [
    "#loading packages\n",
    "library(tidyverse)\n",
    "library(repr)\n",
    "library(readxl)\n",
    "library(tidymodels)\n",
    "options(repr.matrix.max.rows = 6)"
   ]
  },
  {
   "cell_type": "code",
   "execution_count": 23,
   "id": "990aa1d0-c724-493f-966b-5c050e078df7",
   "metadata": {},
   "outputs": [
    {
     "data": {
      "text/html": [
       "<table class=\"dataframe\">\n",
       "<caption>A tibble: 258 × 6</caption>\n",
       "<thead>\n",
       "\t<tr><th scope=col>STG</th><th scope=col>SCG</th><th scope=col>STR</th><th scope=col>LPR</th><th scope=col>PEG</th><th scope=col>UNS</th></tr>\n",
       "\t<tr><th scope=col>&lt;dbl&gt;</th><th scope=col>&lt;dbl&gt;</th><th scope=col>&lt;dbl&gt;</th><th scope=col>&lt;dbl&gt;</th><th scope=col>&lt;dbl&gt;</th><th scope=col>&lt;chr&gt;</th></tr>\n",
       "</thead>\n",
       "<tbody>\n",
       "\t<tr><td>0.00</td><td>0.00</td><td>0.00</td><td>0.00</td><td>0.00</td><td>very_low</td></tr>\n",
       "\t<tr><td>0.08</td><td>0.08</td><td>0.10</td><td>0.24</td><td>0.90</td><td>High    </td></tr>\n",
       "\t<tr><td>0.06</td><td>0.06</td><td>0.05</td><td>0.25</td><td>0.33</td><td>Low     </td></tr>\n",
       "\t<tr><td>⋮</td><td>⋮</td><td>⋮</td><td>⋮</td><td>⋮</td><td>⋮</td></tr>\n",
       "\t<tr><td>0.54</td><td>0.82</td><td>0.71</td><td>0.29</td><td>0.77</td><td>High  </td></tr>\n",
       "\t<tr><td>0.50</td><td>0.75</td><td>0.81</td><td>0.61</td><td>0.26</td><td>Middle</td></tr>\n",
       "\t<tr><td>0.66</td><td>0.90</td><td>0.76</td><td>0.87</td><td>0.74</td><td>High  </td></tr>\n",
       "</tbody>\n",
       "</table>\n"
      ],
      "text/latex": [
       "A tibble: 258 × 6\n",
       "\\begin{tabular}{llllll}\n",
       " STG & SCG & STR & LPR & PEG & UNS\\\\\n",
       " <dbl> & <dbl> & <dbl> & <dbl> & <dbl> & <chr>\\\\\n",
       "\\hline\n",
       "\t 0.00 & 0.00 & 0.00 & 0.00 & 0.00 & very\\_low\\\\\n",
       "\t 0.08 & 0.08 & 0.10 & 0.24 & 0.90 & High    \\\\\n",
       "\t 0.06 & 0.06 & 0.05 & 0.25 & 0.33 & Low     \\\\\n",
       "\t ⋮ & ⋮ & ⋮ & ⋮ & ⋮ & ⋮\\\\\n",
       "\t 0.54 & 0.82 & 0.71 & 0.29 & 0.77 & High  \\\\\n",
       "\t 0.50 & 0.75 & 0.81 & 0.61 & 0.26 & Middle\\\\\n",
       "\t 0.66 & 0.90 & 0.76 & 0.87 & 0.74 & High  \\\\\n",
       "\\end{tabular}\n"
      ],
      "text/markdown": [
       "\n",
       "A tibble: 258 × 6\n",
       "\n",
       "| STG &lt;dbl&gt; | SCG &lt;dbl&gt; | STR &lt;dbl&gt; | LPR &lt;dbl&gt; | PEG &lt;dbl&gt; | UNS &lt;chr&gt; |\n",
       "|---|---|---|---|---|---|\n",
       "| 0.00 | 0.00 | 0.00 | 0.00 | 0.00 | very_low |\n",
       "| 0.08 | 0.08 | 0.10 | 0.24 | 0.90 | High     |\n",
       "| 0.06 | 0.06 | 0.05 | 0.25 | 0.33 | Low      |\n",
       "| ⋮ | ⋮ | ⋮ | ⋮ | ⋮ | ⋮ |\n",
       "| 0.54 | 0.82 | 0.71 | 0.29 | 0.77 | High   |\n",
       "| 0.50 | 0.75 | 0.81 | 0.61 | 0.26 | Middle |\n",
       "| 0.66 | 0.90 | 0.76 | 0.87 | 0.74 | High   |\n",
       "\n"
      ],
      "text/plain": [
       "    STG  SCG  STR  LPR  PEG  UNS     \n",
       "1   0.00 0.00 0.00 0.00 0.00 very_low\n",
       "2   0.08 0.08 0.10 0.24 0.90 High    \n",
       "3   0.06 0.06 0.05 0.25 0.33 Low     \n",
       "⋮   ⋮    ⋮    ⋮    ⋮    ⋮    ⋮       \n",
       "256 0.54 0.82 0.71 0.29 0.77 High    \n",
       "257 0.50 0.75 0.81 0.61 0.26 Middle  \n",
       "258 0.66 0.90 0.76 0.87 0.74 High    "
      ]
     },
     "metadata": {},
     "output_type": "display_data"
    }
   ],
   "source": [
    "#reading the data\n",
    "modeling_data <- read_excel(\"modeling_data_xlsx.xlsx\")\n",
    "modeling_data "
   ]
  },
  {
   "cell_type": "code",
   "execution_count": 24,
   "id": "429e6ff1-ec7b-4217-a197-2c75cca1f7ea",
   "metadata": {},
   "outputs": [
    {
     "data": {
      "text/html": [
       "<table class=\"dataframe\">\n",
       "<caption>A tibble: 258 × 3</caption>\n",
       "<thead>\n",
       "\t<tr><th scope=col>LPR</th><th scope=col>PEG</th><th scope=col>UNS</th></tr>\n",
       "\t<tr><th scope=col>&lt;dbl&gt;</th><th scope=col>&lt;dbl&gt;</th><th scope=col>&lt;chr&gt;</th></tr>\n",
       "</thead>\n",
       "<tbody>\n",
       "\t<tr><td>0.00</td><td>0.00</td><td>very_low</td></tr>\n",
       "\t<tr><td>0.24</td><td>0.90</td><td>High    </td></tr>\n",
       "\t<tr><td>0.25</td><td>0.33</td><td>Low     </td></tr>\n",
       "\t<tr><td>⋮</td><td>⋮</td><td>⋮</td></tr>\n",
       "\t<tr><td>0.29</td><td>0.77</td><td>High  </td></tr>\n",
       "\t<tr><td>0.61</td><td>0.26</td><td>Middle</td></tr>\n",
       "\t<tr><td>0.87</td><td>0.74</td><td>High  </td></tr>\n",
       "</tbody>\n",
       "</table>\n"
      ],
      "text/latex": [
       "A tibble: 258 × 3\n",
       "\\begin{tabular}{lll}\n",
       " LPR & PEG & UNS\\\\\n",
       " <dbl> & <dbl> & <chr>\\\\\n",
       "\\hline\n",
       "\t 0.00 & 0.00 & very\\_low\\\\\n",
       "\t 0.24 & 0.90 & High    \\\\\n",
       "\t 0.25 & 0.33 & Low     \\\\\n",
       "\t ⋮ & ⋮ & ⋮\\\\\n",
       "\t 0.29 & 0.77 & High  \\\\\n",
       "\t 0.61 & 0.26 & Middle\\\\\n",
       "\t 0.87 & 0.74 & High  \\\\\n",
       "\\end{tabular}\n"
      ],
      "text/markdown": [
       "\n",
       "A tibble: 258 × 3\n",
       "\n",
       "| LPR &lt;dbl&gt; | PEG &lt;dbl&gt; | UNS &lt;chr&gt; |\n",
       "|---|---|---|\n",
       "| 0.00 | 0.00 | very_low |\n",
       "| 0.24 | 0.90 | High     |\n",
       "| 0.25 | 0.33 | Low      |\n",
       "| ⋮ | ⋮ | ⋮ |\n",
       "| 0.29 | 0.77 | High   |\n",
       "| 0.61 | 0.26 | Middle |\n",
       "| 0.87 | 0.74 | High   |\n",
       "\n"
      ],
      "text/plain": [
       "    LPR  PEG  UNS     \n",
       "1   0.00 0.00 very_low\n",
       "2   0.24 0.90 High    \n",
       "3   0.25 0.33 Low     \n",
       "⋮   ⋮    ⋮    ⋮       \n",
       "256 0.29 0.77 High    \n",
       "257 0.61 0.26 Middle  \n",
       "258 0.87 0.74 High    "
      ]
     },
     "metadata": {},
     "output_type": "display_data"
    }
   ],
   "source": [
    "#cleaning the data\n",
    "modeling_data_selected <- select(modeling_data, LPR, PEG, UNS)\n",
    "modeling_data_selected"
   ]
  },
  {
   "cell_type": "code",
   "execution_count": 25,
   "id": "76382406-614b-49a1-bf26-63888e9b5204",
   "metadata": {},
   "outputs": [
    {
     "data": {
      "text/plain": [
       "<Training/Testing/Total>\n",
       "<192/66/258>"
      ]
     },
     "metadata": {},
     "output_type": "display_data"
    },
    {
     "data": {
      "text/html": [
       "<table class=\"dataframe\">\n",
       "<caption>A tibble: 192 × 3</caption>\n",
       "<thead>\n",
       "\t<tr><th scope=col>LPR</th><th scope=col>PEG</th><th scope=col>UNS</th></tr>\n",
       "\t<tr><th scope=col>&lt;dbl&gt;</th><th scope=col>&lt;dbl&gt;</th><th scope=col>&lt;chr&gt;</th></tr>\n",
       "</thead>\n",
       "<tbody>\n",
       "\t<tr><td>0.00</td><td>0.0</td><td>very_low</td></tr>\n",
       "\t<tr><td>0.24</td><td>0.9</td><td>High    </td></tr>\n",
       "\t<tr><td>0.35</td><td>0.8</td><td>High    </td></tr>\n",
       "\t<tr><td>⋮</td><td>⋮</td><td>⋮</td></tr>\n",
       "\t<tr><td>0.31</td><td>0.50</td><td>Middle</td></tr>\n",
       "\t<tr><td>0.19</td><td>0.60</td><td>Middle</td></tr>\n",
       "\t<tr><td>0.61</td><td>0.26</td><td>Middle</td></tr>\n",
       "</tbody>\n",
       "</table>\n"
      ],
      "text/latex": [
       "A tibble: 192 × 3\n",
       "\\begin{tabular}{lll}\n",
       " LPR & PEG & UNS\\\\\n",
       " <dbl> & <dbl> & <chr>\\\\\n",
       "\\hline\n",
       "\t 0.00 & 0.0 & very\\_low\\\\\n",
       "\t 0.24 & 0.9 & High    \\\\\n",
       "\t 0.35 & 0.8 & High    \\\\\n",
       "\t ⋮ & ⋮ & ⋮\\\\\n",
       "\t 0.31 & 0.50 & Middle\\\\\n",
       "\t 0.19 & 0.60 & Middle\\\\\n",
       "\t 0.61 & 0.26 & Middle\\\\\n",
       "\\end{tabular}\n"
      ],
      "text/markdown": [
       "\n",
       "A tibble: 192 × 3\n",
       "\n",
       "| LPR &lt;dbl&gt; | PEG &lt;dbl&gt; | UNS &lt;chr&gt; |\n",
       "|---|---|---|\n",
       "| 0.00 | 0.0 | very_low |\n",
       "| 0.24 | 0.9 | High     |\n",
       "| 0.35 | 0.8 | High     |\n",
       "| ⋮ | ⋮ | ⋮ |\n",
       "| 0.31 | 0.50 | Middle |\n",
       "| 0.19 | 0.60 | Middle |\n",
       "| 0.61 | 0.26 | Middle |\n",
       "\n"
      ],
      "text/plain": [
       "    LPR  PEG  UNS     \n",
       "1   0.00 0.0  very_low\n",
       "2   0.24 0.9  High    \n",
       "3   0.35 0.8  High    \n",
       "⋮   ⋮    ⋮    ⋮       \n",
       "190 0.31 0.50 Middle  \n",
       "191 0.19 0.60 Middle  \n",
       "192 0.61 0.26 Middle  "
      ]
     },
     "metadata": {},
     "output_type": "display_data"
    },
    {
     "data": {
      "text/html": [
       "<table class=\"dataframe\">\n",
       "<caption>A tibble: 66 × 3</caption>\n",
       "<thead>\n",
       "\t<tr><th scope=col>LPR</th><th scope=col>PEG</th><th scope=col>UNS</th></tr>\n",
       "\t<tr><th scope=col>&lt;dbl&gt;</th><th scope=col>&lt;dbl&gt;</th><th scope=col>&lt;chr&gt;</th></tr>\n",
       "</thead>\n",
       "<tbody>\n",
       "\t<tr><td>0.29</td><td>0.56</td><td>Middle</td></tr>\n",
       "\t<tr><td>0.20</td><td>0.85</td><td>High  </td></tr>\n",
       "\t<tr><td>0.30</td><td>0.81</td><td>High  </td></tr>\n",
       "\t<tr><td>⋮</td><td>⋮</td><td>⋮</td></tr>\n",
       "\t<tr><td>0.30</td><td>0.52</td><td>Middle</td></tr>\n",
       "\t<tr><td>0.65</td><td>0.25</td><td>Middle</td></tr>\n",
       "\t<tr><td>0.89</td><td>0.88</td><td>High  </td></tr>\n",
       "</tbody>\n",
       "</table>\n"
      ],
      "text/latex": [
       "A tibble: 66 × 3\n",
       "\\begin{tabular}{lll}\n",
       " LPR & PEG & UNS\\\\\n",
       " <dbl> & <dbl> & <chr>\\\\\n",
       "\\hline\n",
       "\t 0.29 & 0.56 & Middle\\\\\n",
       "\t 0.20 & 0.85 & High  \\\\\n",
       "\t 0.30 & 0.81 & High  \\\\\n",
       "\t ⋮ & ⋮ & ⋮\\\\\n",
       "\t 0.30 & 0.52 & Middle\\\\\n",
       "\t 0.65 & 0.25 & Middle\\\\\n",
       "\t 0.89 & 0.88 & High  \\\\\n",
       "\\end{tabular}\n"
      ],
      "text/markdown": [
       "\n",
       "A tibble: 66 × 3\n",
       "\n",
       "| LPR &lt;dbl&gt; | PEG &lt;dbl&gt; | UNS &lt;chr&gt; |\n",
       "|---|---|---|\n",
       "| 0.29 | 0.56 | Middle |\n",
       "| 0.20 | 0.85 | High   |\n",
       "| 0.30 | 0.81 | High   |\n",
       "| ⋮ | ⋮ | ⋮ |\n",
       "| 0.30 | 0.52 | Middle |\n",
       "| 0.65 | 0.25 | Middle |\n",
       "| 0.89 | 0.88 | High   |\n",
       "\n"
      ],
      "text/plain": [
       "   LPR  PEG  UNS   \n",
       "1  0.29 0.56 Middle\n",
       "2  0.20 0.85 High  \n",
       "3  0.30 0.81 High  \n",
       "⋮  ⋮    ⋮    ⋮     \n",
       "64 0.30 0.52 Middle\n",
       "65 0.65 0.25 Middle\n",
       "66 0.89 0.88 High  "
      ]
     },
     "metadata": {},
     "output_type": "display_data"
    }
   ],
   "source": [
    "#splitting into training and testing data\n",
    "set.seed(1)\n",
    "\n",
    "modeling_split <- initial_split(modeling_data_selected, prop = 0.75, strata = UNS) \n",
    "modeling_training <- training(modeling_split) \n",
    "modeling_testing <- testing(modeling_split)\n",
    "\n",
    "modeling_split\n",
    "modeling_training\n",
    "modeling_testing"
   ]
  },
  {
   "cell_type": "code",
   "execution_count": 26,
   "id": "dfa32150-486d-48c0-a93f-0c8230429437",
   "metadata": {},
   "outputs": [
    {
     "data": {
      "text/html": [
       "258"
      ],
      "text/latex": [
       "258"
      ],
      "text/markdown": [
       "258"
      ],
      "text/plain": [
       "[1] 258"
      ]
     },
     "metadata": {},
     "output_type": "display_data"
    }
   ],
   "source": [
    "#summarize the data (number of observations)\n",
    "nrow(modeling_data_selected)"
   ]
  },
  {
   "cell_type": "code",
   "execution_count": 27,
   "id": "438ec501-24e2-4ac1-89b3-67608b14c4c6",
   "metadata": {},
   "outputs": [
    {
     "data": {
      "text/html": [
       "<table class=\"dataframe\">\n",
       "<caption>A tibble: 1 × 2</caption>\n",
       "<thead>\n",
       "\t<tr><th scope=col>mean_LPR</th><th scope=col>mean_PEG</th></tr>\n",
       "\t<tr><th scope=col>&lt;dbl&gt;</th><th scope=col>&lt;dbl&gt;</th></tr>\n",
       "</thead>\n",
       "<tbody>\n",
       "\t<tr><td>0.425</td><td>0.4568385</td></tr>\n",
       "</tbody>\n",
       "</table>\n"
      ],
      "text/latex": [
       "A tibble: 1 × 2\n",
       "\\begin{tabular}{ll}\n",
       " mean\\_LPR & mean\\_PEG\\\\\n",
       " <dbl> & <dbl>\\\\\n",
       "\\hline\n",
       "\t 0.425 & 0.4568385\\\\\n",
       "\\end{tabular}\n"
      ],
      "text/markdown": [
       "\n",
       "A tibble: 1 × 2\n",
       "\n",
       "| mean_LPR &lt;dbl&gt; | mean_PEG &lt;dbl&gt; |\n",
       "|---|---|\n",
       "| 0.425 | 0.4568385 |\n",
       "\n"
      ],
      "text/plain": [
       "  mean_LPR mean_PEG \n",
       "1 0.425    0.4568385"
      ]
     },
     "metadata": {},
     "output_type": "display_data"
    }
   ],
   "source": [
    "#summarize the data (mean)\n",
    "modeling_data_summarize <- summarize(modeling_training, \n",
    "                                     mean_LPR = mean(LPR),\n",
    "                                    mean_PEG = mean(PEG),\n",
    "                                     )\n",
    "modeling_data_summarize"
   ]
  },
  {
   "cell_type": "code",
   "execution_count": 28,
   "id": "62db0d4c-9795-467c-8a80-88b557606d4d",
   "metadata": {},
   "outputs": [
    {
     "data": {
      "text/html": [
       "<table class=\"dataframe\">\n",
       "<caption>A tibble: 1 × 4</caption>\n",
       "<thead>\n",
       "\t<tr><th scope=col>min_LPR</th><th scope=col>min_PEG</th><th scope=col>max_LPR</th><th scope=col>max_PEG</th></tr>\n",
       "\t<tr><th scope=col>&lt;dbl&gt;</th><th scope=col>&lt;dbl&gt;</th><th scope=col>&lt;dbl&gt;</th><th scope=col>&lt;dbl&gt;</th></tr>\n",
       "</thead>\n",
       "<tbody>\n",
       "\t<tr><td>0</td><td>0</td><td>0.98</td><td>0.93</td></tr>\n",
       "</tbody>\n",
       "</table>\n"
      ],
      "text/latex": [
       "A tibble: 1 × 4\n",
       "\\begin{tabular}{llll}\n",
       " min\\_LPR & min\\_PEG & max\\_LPR & max\\_PEG\\\\\n",
       " <dbl> & <dbl> & <dbl> & <dbl>\\\\\n",
       "\\hline\n",
       "\t 0 & 0 & 0.98 & 0.93\\\\\n",
       "\\end{tabular}\n"
      ],
      "text/markdown": [
       "\n",
       "A tibble: 1 × 4\n",
       "\n",
       "| min_LPR &lt;dbl&gt; | min_PEG &lt;dbl&gt; | max_LPR &lt;dbl&gt; | max_PEG &lt;dbl&gt; |\n",
       "|---|---|---|---|\n",
       "| 0 | 0 | 0.98 | 0.93 |\n",
       "\n"
      ],
      "text/plain": [
       "  min_LPR min_PEG max_LPR max_PEG\n",
       "1 0       0       0.98    0.93   "
      ]
     },
     "metadata": {},
     "output_type": "display_data"
    }
   ],
   "source": [
    "#summarize the data (min, max)\n",
    "modeling_data_summarize <- summarize(modeling_training, \n",
    "                                     min_LPR = min(LPR),\n",
    "                                    min_PEG = min(PEG),\n",
    "                                    max_LPR = max(LPR),\n",
    "                                    max_PEG = max(PEG),\n",
    "                                    )\n",
    "modeling_data_summarize"
   ]
  },
  {
   "cell_type": "code",
   "execution_count": 29,
   "id": "ebb4075c-0f0a-4b8b-be6a-252c01138c9f",
   "metadata": {},
   "outputs": [
    {
     "data": {
      "text/html": [
       "<table class=\"dataframe\">\n",
       "<caption>A tibble: 1 × 2</caption>\n",
       "<thead>\n",
       "\t<tr><th scope=col>sd_LPR</th><th scope=col>sd_PEG</th></tr>\n",
       "\t<tr><th scope=col>&lt;dbl&gt;</th><th scope=col>&lt;dbl&gt;</th></tr>\n",
       "</thead>\n",
       "<tbody>\n",
       "\t<tr><td>0.2511627</td><td>0.260728</td></tr>\n",
       "</tbody>\n",
       "</table>\n"
      ],
      "text/latex": [
       "A tibble: 1 × 2\n",
       "\\begin{tabular}{ll}\n",
       " sd\\_LPR & sd\\_PEG\\\\\n",
       " <dbl> & <dbl>\\\\\n",
       "\\hline\n",
       "\t 0.2511627 & 0.260728\\\\\n",
       "\\end{tabular}\n"
      ],
      "text/markdown": [
       "\n",
       "A tibble: 1 × 2\n",
       "\n",
       "| sd_LPR &lt;dbl&gt; | sd_PEG &lt;dbl&gt; |\n",
       "|---|---|\n",
       "| 0.2511627 | 0.260728 |\n",
       "\n"
      ],
      "text/plain": [
       "  sd_LPR    sd_PEG  \n",
       "1 0.2511627 0.260728"
      ]
     },
     "metadata": {},
     "output_type": "display_data"
    }
   ],
   "source": [
    "#summarize the data (standard deviation)\n",
    "modeling_data_summarize <- summarize(modeling_training, \n",
    "                                    sd_LPR = sd(LPR),\n",
    "                                     sd_PEG = sd(PEG)\n",
    "                                    )\n",
    "modeling_data_summarize"
   ]
  },
  {
   "cell_type": "code",
   "execution_count": 9,
   "id": "36746992-1f58-463c-860e-7862fd9ce992",
   "metadata": {},
   "outputs": [],
   "source": [
    "#change colours to colour-blindness friendly"
   ]
  },
  {
   "cell_type": "code",
   "execution_count": 31,
   "id": "b8eaf3a8-854f-4363-86b0-753349c427d5",
   "metadata": {},
   "outputs": [
    {
     "data": {
      "image/png": "[encoded data removed]",
      "text/plain": [
       "plot without title"
      ]
     },
     "metadata": {
      "image/png": {
       "height": 480,
       "width": 720
      }
     },
     "output_type": "display_data"
    }
   ],
   "source": [
    "#visualising the data of UNS vs STG and SCG (Variables are yet standardized)\n",
    "options(repr.plot.width = 12, repr.plot.height = 8)\n",
    "\n",
    "modeling_data_plot <- ggplot(modeling_training, aes(x = LPR, y = PEG, colour = UNS)) +\n",
    "        geom_point(alpha = 0.5) +\n",
    "        labs(x = \"Exam performance of user for related objects with goal object (LPR)\", y = \"Exam performance of user for goal object (PEG)\" , colour = \"The knowledge level of user (UNS)\") +\n",
    "        ggtitle(\"The knowledge level of user (UNS) VS \\n Exam performance of user for related objects with goal object (LPR) and \\nExam performance of user for goal object (PEG)\") +\n",
    "        theme(text = element_text(size = 16))\n",
    "\n",
    "modeling_data_plot"
   ]
  },
  {
   "cell_type": "code",
   "execution_count": 33,
   "id": "80e41588-3e17-4bef-8d11-b3d2a204e6e3",
   "metadata": {},
   "outputs": [
    {
     "data": {
      "text/plain": [
       "Recipe\n",
       "\n",
       "Inputs:\n",
       "\n",
       "      role #variables\n",
       "   outcome          1\n",
       " predictor          2\n",
       "\n",
       "Operations:\n",
       "\n",
       "Scaling for all_predictors()\n",
       "Centering for all_predictors()"
      ]
     },
     "metadata": {},
     "output_type": "display_data"
    }
   ],
   "source": [
    "#create recipe for training data, a specification for k\n",
    "\n",
    "set.seed(1)\n",
    "modeling_recipe <- recipe(UNS ~ LPR + PEG, data = modeling_training) |> \n",
    "step_scale(all_predictors()) |>\n",
    "step_center(all_predictors())\n",
    "\n",
    "modeling_recipe\n",
    "\n"
   ]
  },
  {
   "cell_type": "code",
   "execution_count": 34,
   "id": "3ee53b4e-1761-46e8-b66d-e83aa71b1cf8",
   "metadata": {},
   "outputs": [
    {
     "data": {
      "text/plain": [
       "K-Nearest Neighbor Model Specification (classification)\n",
       "\n",
       "Main Arguments:\n",
       "  neighbors = tune()\n",
       "  weight_func = rectangular\n",
       "\n",
       "Computational engine: kknn \n"
      ]
     },
     "metadata": {},
     "output_type": "display_data"
    }
   ],
   "source": [
    "set.seed(1)\n",
    "\n",
    "modeling_spec <- nearest_neighbor(weight_func = \"rectangular\", neighbors = tune()) |> \n",
    "set_engine(\"kknn\") |> \n",
    "set_mode(\"classification\")\n",
    "\n",
    "modeling_spec"
   ]
  },
  {
   "cell_type": "code",
   "execution_count": 36,
   "id": "84521994-61d6-4d44-9a32-b74df81c368e",
   "metadata": {},
   "outputs": [
    {
     "data": {
      "text/html": [
       "<table class=\"dataframe\">\n",
       "<caption>A tibble: 42 × 7</caption>\n",
       "<thead>\n",
       "\t<tr><th scope=col>neighbors</th><th scope=col>.metric</th><th scope=col>.estimator</th><th scope=col>mean</th><th scope=col>n</th><th scope=col>std_err</th><th scope=col>.config</th></tr>\n",
       "\t<tr><th scope=col>&lt;dbl&gt;</th><th scope=col>&lt;chr&gt;</th><th scope=col>&lt;chr&gt;</th><th scope=col>&lt;dbl&gt;</th><th scope=col>&lt;int&gt;</th><th scope=col>&lt;dbl&gt;</th><th scope=col>&lt;chr&gt;</th></tr>\n",
       "</thead>\n",
       "<tbody>\n",
       "\t<tr><td>1</td><td>accuracy</td><td>multiclass</td><td>0.9476029</td><td>5</td><td>0.008787816</td><td>Preprocessor1_Model01</td></tr>\n",
       "\t<tr><td>1</td><td>roc_auc </td><td>hand_till </td><td>0.9610399</td><td>5</td><td>0.012260026</td><td>Preprocessor1_Model01</td></tr>\n",
       "\t<tr><td>6</td><td>accuracy</td><td>multiclass</td><td>0.9480151</td><td>5</td><td>0.008029494</td><td>Preprocessor1_Model02</td></tr>\n",
       "\t<tr><td>⋮</td><td>⋮</td><td>⋮</td><td>⋮</td><td>⋮</td><td>⋮</td><td>⋮</td></tr>\n",
       "\t<tr><td> 96</td><td>roc_auc </td><td>hand_till </td><td>0.8167346</td><td>5</td><td>0.01451846</td><td>Preprocessor1_Model20</td></tr>\n",
       "\t<tr><td>101</td><td>accuracy</td><td>multiclass</td><td>0.4785035</td><td>5</td><td>0.03159243</td><td>Preprocessor1_Model21</td></tr>\n",
       "\t<tr><td>101</td><td>roc_auc </td><td>hand_till </td><td>0.8164004</td><td>5</td><td>0.01412639</td><td>Preprocessor1_Model21</td></tr>\n",
       "</tbody>\n",
       "</table>\n"
      ],
      "text/latex": [
       "A tibble: 42 × 7\n",
       "\\begin{tabular}{lllllll}\n",
       " neighbors & .metric & .estimator & mean & n & std\\_err & .config\\\\\n",
       " <dbl> & <chr> & <chr> & <dbl> & <int> & <dbl> & <chr>\\\\\n",
       "\\hline\n",
       "\t 1 & accuracy & multiclass & 0.9476029 & 5 & 0.008787816 & Preprocessor1\\_Model01\\\\\n",
       "\t 1 & roc\\_auc  & hand\\_till  & 0.9610399 & 5 & 0.012260026 & Preprocessor1\\_Model01\\\\\n",
       "\t 6 & accuracy & multiclass & 0.9480151 & 5 & 0.008029494 & Preprocessor1\\_Model02\\\\\n",
       "\t ⋮ & ⋮ & ⋮ & ⋮ & ⋮ & ⋮ & ⋮\\\\\n",
       "\t  96 & roc\\_auc  & hand\\_till  & 0.8167346 & 5 & 0.01451846 & Preprocessor1\\_Model20\\\\\n",
       "\t 101 & accuracy & multiclass & 0.4785035 & 5 & 0.03159243 & Preprocessor1\\_Model21\\\\\n",
       "\t 101 & roc\\_auc  & hand\\_till  & 0.8164004 & 5 & 0.01412639 & Preprocessor1\\_Model21\\\\\n",
       "\\end{tabular}\n"
      ],
      "text/markdown": [
       "\n",
       "A tibble: 42 × 7\n",
       "\n",
       "| neighbors &lt;dbl&gt; | .metric &lt;chr&gt; | .estimator &lt;chr&gt; | mean &lt;dbl&gt; | n &lt;int&gt; | std_err &lt;dbl&gt; | .config &lt;chr&gt; |\n",
       "|---|---|---|---|---|---|---|\n",
       "| 1 | accuracy | multiclass | 0.9476029 | 5 | 0.008787816 | Preprocessor1_Model01 |\n",
       "| 1 | roc_auc  | hand_till  | 0.9610399 | 5 | 0.012260026 | Preprocessor1_Model01 |\n",
       "| 6 | accuracy | multiclass | 0.9480151 | 5 | 0.008029494 | Preprocessor1_Model02 |\n",
       "| ⋮ | ⋮ | ⋮ | ⋮ | ⋮ | ⋮ | ⋮ |\n",
       "|  96 | roc_auc  | hand_till  | 0.8167346 | 5 | 0.01451846 | Preprocessor1_Model20 |\n",
       "| 101 | accuracy | multiclass | 0.4785035 | 5 | 0.03159243 | Preprocessor1_Model21 |\n",
       "| 101 | roc_auc  | hand_till  | 0.8164004 | 5 | 0.01412639 | Preprocessor1_Model21 |\n",
       "\n"
      ],
      "text/plain": [
       "   neighbors .metric  .estimator mean      n std_err     .config              \n",
       "1  1         accuracy multiclass 0.9476029 5 0.008787816 Preprocessor1_Model01\n",
       "2  1         roc_auc  hand_till  0.9610399 5 0.012260026 Preprocessor1_Model01\n",
       "3  6         accuracy multiclass 0.9480151 5 0.008029494 Preprocessor1_Model02\n",
       "⋮  ⋮         ⋮        ⋮          ⋮         ⋮ ⋮           ⋮                    \n",
       "40  96       roc_auc  hand_till  0.8167346 5 0.01451846  Preprocessor1_Model20\n",
       "41 101       accuracy multiclass 0.4785035 5 0.03159243  Preprocessor1_Model21\n",
       "42 101       roc_auc  hand_till  0.8164004 5 0.01412639  Preprocessor1_Model21"
      ]
     },
     "metadata": {},
     "output_type": "display_data"
    }
   ],
   "source": [
    "#5-fold cross-validation, choose the number of neighbors via the maximum accuracy: (WE WOULD CONTINUE ON THIS LATER)\n",
    "set.seed(1)\n",
    "modeling_vfold <- vfold_cv(modeling_training, v = 5, strata = UNS) \n",
    "modeling_vals <- tibble(neighbors = seq(1, 101, by = 5)) \n",
    "\n",
    "modeling_workflow <- workflow() |> \n",
    "    add_recipe(modeling_recipe) |> \n",
    "    add_model(modeling_spec) |>\n",
    "    tune_grid(resamples = modeling_vfold, grid = modeling_vals) |> \n",
    "    collect_metrics() \n",
    "\n",
    "modeling_workflow"
   ]
  },
  {
   "cell_type": "code",
   "execution_count": 37,
   "id": "5fb9047b-3c54-46e3-a45d-383169e68d8c",
   "metadata": {},
   "outputs": [
    {
     "data": {
      "text/html": [
       "<table class=\"dataframe\">\n",
       "<caption>A tibble: 21 × 7</caption>\n",
       "<thead>\n",
       "\t<tr><th scope=col>neighbors</th><th scope=col>.metric</th><th scope=col>.estimator</th><th scope=col>mean</th><th scope=col>n</th><th scope=col>std_err</th><th scope=col>.config</th></tr>\n",
       "\t<tr><th scope=col>&lt;dbl&gt;</th><th scope=col>&lt;chr&gt;</th><th scope=col>&lt;chr&gt;</th><th scope=col>&lt;dbl&gt;</th><th scope=col>&lt;int&gt;</th><th scope=col>&lt;dbl&gt;</th><th scope=col>&lt;chr&gt;</th></tr>\n",
       "</thead>\n",
       "<tbody>\n",
       "\t<tr><td> 6</td><td>accuracy</td><td>multiclass</td><td>0.9480151</td><td>5</td><td>0.008029494</td><td>Preprocessor1_Model02</td></tr>\n",
       "\t<tr><td> 1</td><td>accuracy</td><td>multiclass</td><td>0.9476029</td><td>5</td><td>0.008787816</td><td>Preprocessor1_Model01</td></tr>\n",
       "\t<tr><td>11</td><td>accuracy</td><td>multiclass</td><td>0.9224888</td><td>5</td><td>0.013089744</td><td>Preprocessor1_Model03</td></tr>\n",
       "\t<tr><td>⋮</td><td>⋮</td><td>⋮</td><td>⋮</td><td>⋮</td><td>⋮</td><td>⋮</td></tr>\n",
       "\t<tr><td> 91</td><td>accuracy</td><td>multiclass</td><td>0.4890298</td><td>5</td><td>0.03074111</td><td>Preprocessor1_Model19</td></tr>\n",
       "\t<tr><td> 96</td><td>accuracy</td><td>multiclass</td><td>0.4786384</td><td>5</td><td>0.02642746</td><td>Preprocessor1_Model20</td></tr>\n",
       "\t<tr><td>101</td><td>accuracy</td><td>multiclass</td><td>0.4785035</td><td>5</td><td>0.03159243</td><td>Preprocessor1_Model21</td></tr>\n",
       "</tbody>\n",
       "</table>\n"
      ],
      "text/latex": [
       "A tibble: 21 × 7\n",
       "\\begin{tabular}{lllllll}\n",
       " neighbors & .metric & .estimator & mean & n & std\\_err & .config\\\\\n",
       " <dbl> & <chr> & <chr> & <dbl> & <int> & <dbl> & <chr>\\\\\n",
       "\\hline\n",
       "\t  6 & accuracy & multiclass & 0.9480151 & 5 & 0.008029494 & Preprocessor1\\_Model02\\\\\n",
       "\t  1 & accuracy & multiclass & 0.9476029 & 5 & 0.008787816 & Preprocessor1\\_Model01\\\\\n",
       "\t 11 & accuracy & multiclass & 0.9224888 & 5 & 0.013089744 & Preprocessor1\\_Model03\\\\\n",
       "\t ⋮ & ⋮ & ⋮ & ⋮ & ⋮ & ⋮ & ⋮\\\\\n",
       "\t  91 & accuracy & multiclass & 0.4890298 & 5 & 0.03074111 & Preprocessor1\\_Model19\\\\\n",
       "\t  96 & accuracy & multiclass & 0.4786384 & 5 & 0.02642746 & Preprocessor1\\_Model20\\\\\n",
       "\t 101 & accuracy & multiclass & 0.4785035 & 5 & 0.03159243 & Preprocessor1\\_Model21\\\\\n",
       "\\end{tabular}\n"
      ],
      "text/markdown": [
       "\n",
       "A tibble: 21 × 7\n",
       "\n",
       "| neighbors &lt;dbl&gt; | .metric &lt;chr&gt; | .estimator &lt;chr&gt; | mean &lt;dbl&gt; | n &lt;int&gt; | std_err &lt;dbl&gt; | .config &lt;chr&gt; |\n",
       "|---|---|---|---|---|---|---|\n",
       "|  6 | accuracy | multiclass | 0.9480151 | 5 | 0.008029494 | Preprocessor1_Model02 |\n",
       "|  1 | accuracy | multiclass | 0.9476029 | 5 | 0.008787816 | Preprocessor1_Model01 |\n",
       "| 11 | accuracy | multiclass | 0.9224888 | 5 | 0.013089744 | Preprocessor1_Model03 |\n",
       "| ⋮ | ⋮ | ⋮ | ⋮ | ⋮ | ⋮ | ⋮ |\n",
       "|  91 | accuracy | multiclass | 0.4890298 | 5 | 0.03074111 | Preprocessor1_Model19 |\n",
       "|  96 | accuracy | multiclass | 0.4786384 | 5 | 0.02642746 | Preprocessor1_Model20 |\n",
       "| 101 | accuracy | multiclass | 0.4785035 | 5 | 0.03159243 | Preprocessor1_Model21 |\n",
       "\n"
      ],
      "text/plain": [
       "   neighbors .metric  .estimator mean      n std_err     .config              \n",
       "1   6        accuracy multiclass 0.9480151 5 0.008029494 Preprocessor1_Model02\n",
       "2   1        accuracy multiclass 0.9476029 5 0.008787816 Preprocessor1_Model01\n",
       "3  11        accuracy multiclass 0.9224888 5 0.013089744 Preprocessor1_Model03\n",
       "⋮  ⋮         ⋮        ⋮          ⋮         ⋮ ⋮           ⋮                    \n",
       "19  91       accuracy multiclass 0.4890298 5 0.03074111  Preprocessor1_Model19\n",
       "20  96       accuracy multiclass 0.4786384 5 0.02642746  Preprocessor1_Model20\n",
       "21 101       accuracy multiclass 0.4785035 5 0.03159243  Preprocessor1_Model21"
      ]
     },
     "metadata": {},
     "output_type": "display_data"
    }
   ],
   "source": [
    "accuracies <- modeling_workflow |>\n",
    "        filter(.metric == \"accuracy\")|>\n",
    "        arrange(desc(mean))\n",
    "\n",
    "accuracies"
   ]
  },
  {
   "cell_type": "code",
   "execution_count": 40,
   "id": "e89e776a-2adf-4820-a0fe-e6070adbdda8",
   "metadata": {},
   "outputs": [],
   "source": [
    "#Choose the optimal K to run the full analyis on test\n",
    "\n",
    "modeling_spec_2 <- nearest_neighbor(weight_func = \"rectangular\", neighbors = 6)|>\n",
    "        set_engine(\"kknn\") |> \n",
    "        set_mode(\"classification\")\n",
    "\n",
    "modeling_workflow_fit <- workflow()|> \n",
    "        add_recipe(modeling_recipe) |>\n",
    "        add_model(modeling_spec_2) |> \n",
    "        fit(data = modeling_training)"
   ]
  },
  {
   "cell_type": "code",
   "execution_count": null,
   "id": "b5962886-6a48-4bec-82e2-8e9c1922545a",
   "metadata": {},
   "outputs": [],
   "source": [
    "set.seed(1)\n",
    "\n",
    "modeling_predict <- modeling_workflow_fit |> \n",
    "        predict(modeling_testing) |> \n",
    "        bind_cols(modeling_testing)|>\n",
    "        select.estimate) |>\n",
    "        pull()\n",
    "\n",
    "modeling_mericts <- metrics(modeling_predict, truth = UNS, estimate = .pred_class) |> \n",
    "    filter(.metric == 'accuracy')\n",
    "\n",
    "knn_mult_mets"
   ]
  },
  {
   "cell_type": "markdown",
   "id": "87287cc5-b578-442d-9921-e4332090524a",
   "metadata": {},
   "source": [
    "Methods\n",
    "\n",
    "We will use the publicly available data \"modeling_data_xlsx\" on studying and knowledge level from the University of California. We selected the variables STG, SCG, STR, and UNS. In particular, the predictors would be STG, SCG, and STR, all continous, while the response variable would be the categorical variable UNS. We are going to split the data into training set and testing set with the ratio 3:1 on random, and carry out classification analysis using the k-nearest neighbours algorithm, with 5-fold cross-validation on the training set. We will pick the optimal k-value with the highest accuracy, and carry out predictions on UNS on the testing set. We will then re-evaluate the accuracy of our prediction model by computing its prediction accuracy (calculated by dividing the number of correct predictons by the total number of predictions). To visulize our results, we would graph two 2D scatter-plots, one for UNS vs scaled STG and scaled SCG and another for UNS vs scaled STG and scaled STR. We also show its confusion matrix to further evaluate its usefulness, and determine if the three independent variables are strong predictors of UNS.\n"
   ]
  },
  {
   "cell_type": "markdown",
   "id": "fd0d5d17-058a-4f43-90be-e62bb9031d40",
   "metadata": {},
   "source": [
    "Expected outcomes and significance\n",
    "\n",
    "We expect there be positive relationships of the response variable, UNS, with all three of the predictors (STG, STR, SCG), with the relationship possibly being non-linear, due to diminishing marginal returns. We expect our model to have a predictive accuracy of 80% or more. \n",
    "\n",
    "We expect our findings could possibly inspire ourselves and our classmates on what the optimal study time and repeition on reviewing lecture notes should be, in order to gain the knowledge level we would want.\n",
    "\n",
    "This could lead to the future question of how such knowledge could correlate to job success, in order to link study time and repetitive work with job success. \n"
   ]
  },
  {
   "cell_type": "code",
   "execution_count": null,
   "id": "e1470cd3-e6b4-4869-90ef-2b2accf99737",
   "metadata": {},
   "outputs": [],
   "source": []
  }
 ],
 "metadata": {
  "kernelspec": {
   "display_name": "R",
   "language": "R",
   "name": "ir"
  },
  "language_info": {
   "codemirror_mode": "r",
   "file_extension": ".r",
   "mimetype": "text/x-r-source",
   "name": "R",
   "pygments_lexer": "r",
   "version": "4.1.3"
  }
 },
 "nbformat": 4,
 "nbformat_minor": 5
}

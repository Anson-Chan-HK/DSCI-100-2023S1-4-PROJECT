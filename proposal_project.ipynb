{
 "cells": [
  {
   "cell_type": "markdown",
   "id": "5f317970-b09b-4d0e-ac0b-cba8f3ac627e",
   "metadata": {},
   "source": [
    "Title:"
   ]
  },
  {
   "cell_type": "markdown",
   "id": "f3884c7a-37eb-4d61-b568-e6fac7faddd5",
   "metadata": {},
   "source": [
    "Introduction\n",
    "\n",
    "#Provide some relevant background information on the topic so that someone unfamiliar with it will be prepared to understand the rest of your proposal\n",
    "\n",
    "#Clearly state the question you will try to answer with your project\n",
    "\n",
    "#Identify and describe the dataset that will be used to answer the question\n",
    "\n",
    "#significance of this project\n"
   ]
  },
  {
   "cell_type": "markdown",
   "id": "44079c5d-d431-4028-b800-137f1cdad04c",
   "metadata": {},
   "source": [
    "Terminology\n",
    "\n"
   ]
  },
  {
   "cell_type": "markdown",
   "id": "8c676ef8-a579-4564-a6b2-317652e25d5b",
   "metadata": {},
   "source": [
    "Preliminary exploratory data analysis below"
   ]
  },
  {
   "cell_type": "code",
   "execution_count": 1,
   "id": "a3445215-8560-4423-84ba-f0b5d7b1551d",
   "metadata": {},
   "outputs": [
    {
     "name": "stderr",
     "output_type": "stream",
     "text": [
      "── \u001b[1mAttaching packages\u001b[22m ─────────────────────────────────────── tidyverse 1.3.1 ──\n",
      "\n",
      "\u001b[32m✔\u001b[39m \u001b[34mggplot2\u001b[39m 3.3.6     \u001b[32m✔\u001b[39m \u001b[34mpurrr  \u001b[39m 0.3.4\n",
      "\u001b[32m✔\u001b[39m \u001b[34mtibble \u001b[39m 3.1.7     \u001b[32m✔\u001b[39m \u001b[34mdplyr  \u001b[39m 1.0.9\n",
      "\u001b[32m✔\u001b[39m \u001b[34mtidyr  \u001b[39m 1.2.0     \u001b[32m✔\u001b[39m \u001b[34mstringr\u001b[39m 1.4.0\n",
      "\u001b[32m✔\u001b[39m \u001b[34mreadr  \u001b[39m 2.1.2     \u001b[32m✔\u001b[39m \u001b[34mforcats\u001b[39m 0.5.1\n",
      "\n",
      "── \u001b[1mConflicts\u001b[22m ────────────────────────────────────────── tidyverse_conflicts() ──\n",
      "\u001b[31m✖\u001b[39m \u001b[34mdplyr\u001b[39m::\u001b[32mfilter()\u001b[39m masks \u001b[34mstats\u001b[39m::filter()\n",
      "\u001b[31m✖\u001b[39m \u001b[34mdplyr\u001b[39m::\u001b[32mlag()\u001b[39m    masks \u001b[34mstats\u001b[39m::lag()\n",
      "\n"
     ]
    }
   ],
   "source": [
    "library(tidyverse)\n",
    "library(repr)\n",
    "library(readxl)\n",
    "options(repr.matrix.max.rows = 6)"
   ]
  },
  {
   "cell_type": "code",
   "execution_count": 3,
   "id": "990aa1d0-c724-493f-966b-5c050e078df7",
   "metadata": {},
   "outputs": [
    {
     "name": "stderr",
     "output_type": "stream",
     "text": [
      "\u001b[1m\u001b[22mNew names:\n",
      "\u001b[36m•\u001b[39m `` -> `...2`\n"
     ]
    }
   ],
   "source": [
    "#reading the data\n",
    "modeling_data <- read_excel(\"data_project/data.xls\")"
   ]
  },
  {
   "cell_type": "code",
   "execution_count": null,
   "id": "429e6ff1-ec7b-4217-a197-2c75cca1f7ea",
   "metadata": {},
   "outputs": [],
   "source": [
    "#cleaning the data"
   ]
  },
  {
   "cell_type": "code",
   "execution_count": 5,
   "id": "438ec501-24e2-4ac1-89b3-67608b14c4c6",
   "metadata": {},
   "outputs": [],
   "source": [
    "#summarize the data (eg mean, standard deviation, number of observations)"
   ]
  },
  {
   "cell_type": "code",
   "execution_count": null,
   "id": "72586fb0-121a-4717-97a8-d4227c37991e",
   "metadata": {},
   "outputs": [],
   "source": [
    "#correlation matrix"
   ]
  },
  {
   "cell_type": "code",
   "execution_count": null,
   "id": "b8eaf3a8-854f-4363-86b0-753349c427d5",
   "metadata": {},
   "outputs": [],
   "source": [
    "#visualising the data across two variables "
   ]
  },
  {
   "cell_type": "code",
   "execution_count": 6,
   "id": "270b7e7d-0d4c-41ee-956d-79320c88bb5b",
   "metadata": {},
   "outputs": [],
   "source": [
    "#visualising the data across another two variables "
   ]
  },
  {
   "cell_type": "markdown",
   "id": "87287cc5-b578-442d-9921-e4332090524a",
   "metadata": {},
   "source": [
    "Methods\n",
    "\n",
    "\n",
    "#Explain how you will conduct either your data analysis and which variables/columns you will use\n",
    "\n",
    "#Describe at least one way that you will visualize the results\n"
   ]
  },
  {
   "cell_type": "markdown",
   "id": "fd0d5d17-058a-4f43-90be-e62bb9031d40",
   "metadata": {},
   "source": [
    "Expected outcomes and significance\n",
    "\n",
    "#What do you expect to find?\n",
    "\n",
    "#What impact could such findings have?\n",
    "\n",
    "#What future questions could this lead to?\n"
   ]
  }
 ],
 "metadata": {
  "kernelspec": {
   "display_name": "R",
   "language": "R",
   "name": "ir"
  },
  "language_info": {
   "codemirror_mode": "r",
   "file_extension": ".r",
   "mimetype": "text/x-r-source",
   "name": "R",
   "pygments_lexer": "r",
   "version": "4.1.3"
  }
 },
 "nbformat": 4,
 "nbformat_minor": 5
}

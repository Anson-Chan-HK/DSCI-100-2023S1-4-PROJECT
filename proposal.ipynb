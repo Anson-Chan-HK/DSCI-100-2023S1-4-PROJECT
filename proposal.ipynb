{
 "cells": [
  {
   "cell_type": "markdown",
   "id": "f8af03b9-614c-464d-a705-6f1798d8a745",
   "metadata": {},
   "source": [
    "Title: The Prediction of Gross National Income of Canada in 2020, 2021 and 2022 from the datasets of 2013-2019"
   ]
  },
  {
   "cell_type": "markdown",
   "id": "817d93e3-01c0-4f7c-8ea5-f7726bed1117",
   "metadata": {},
   "source": [
    "Introduction\n",
    "\n",
    "We are trying to predict the Real Gross National Income (GNI) of Canada in 2020, 2021 and 2022 by three variables, namely Consumer Price Index (CPI), current account balance (CA), and unemployment rate. We would do this by running regression analysis of the four variables (including the dependent variable GNI) from 2013-2019. This project is significant because it interacts different macroeconomic variables and any policy manipulation on the three variables could predict changes in GNI, which is one of the best measurements of economic wellbeing. We collected our data from Statistics Canada, which each variables filtered from 2013-2022 only. All data are unadjusted annual data.\n",
    "    "
   ]
  },
  {
   "cell_type": "markdown",
   "id": "27f82310-ef3b-4084-89b9-e0ff2a268e9d",
   "metadata": {},
   "source": [
    "Terminology \n",
    "- GNI: Gross National Income, which is the aggregate income of residents of an economy in a particular year.\n",
    "- CPI: Consumer Price Index, which is the price level of an economy by calculating the indexed price of a basket of goods and services a typical consumer of an economy purchases.\n",
    "- Current Account: Net goods and services outflow of an economy in a particular year. \n",
    "- Unemployment rate: Total unemployment persons over total labour force of an economy in a particular year."
   ]
  },
  {
   "cell_type": "markdown",
   "id": "7c662f85-5cee-42b6-b472-f3926c4f9ef5",
   "metadata": {},
   "source": [
    "Preliminary exploratory data analysis below:"
   ]
  },
  {
   "cell_type": "code",
   "execution_count": 4,
   "id": "db3c02b1-0703-4d5e-9ef6-d8e5a4516a4b",
   "metadata": {},
   "outputs": [
    {
     "name": "stderr",
     "output_type": "stream",
     "text": [
      "── \u001b[1mAttaching packages\u001b[22m ─────────────────────────────────────── tidyverse 1.3.1 ──\n",
      "\n",
      "\u001b[32m✔\u001b[39m \u001b[34mggplot2\u001b[39m 3.3.6     \u001b[32m✔\u001b[39m \u001b[34mpurrr  \u001b[39m 0.3.4\n",
      "\u001b[32m✔\u001b[39m \u001b[34mtibble \u001b[39m 3.1.7     \u001b[32m✔\u001b[39m \u001b[34mdplyr  \u001b[39m 1.0.9\n",
      "\u001b[32m✔\u001b[39m \u001b[34mtidyr  \u001b[39m 1.2.0     \u001b[32m✔\u001b[39m \u001b[34mstringr\u001b[39m 1.4.0\n",
      "\u001b[32m✔\u001b[39m \u001b[34mreadr  \u001b[39m 2.1.2     \u001b[32m✔\u001b[39m \u001b[34mforcats\u001b[39m 0.5.1\n",
      "\n",
      "── \u001b[1mConflicts\u001b[22m ────────────────────────────────────────── tidyverse_conflicts() ──\n",
      "\u001b[31m✖\u001b[39m \u001b[34mdplyr\u001b[39m::\u001b[32mfilter()\u001b[39m masks \u001b[34mstats\u001b[39m::filter()\n",
      "\u001b[31m✖\u001b[39m \u001b[34mdplyr\u001b[39m::\u001b[32mlag()\u001b[39m    masks \u001b[34mstats\u001b[39m::lag()\n",
      "\n"
     ]
    }
   ],
   "source": [
    "library(tidyverse)\n",
    "library(repr)\n",
    "library(readxl)\n",
    "options(repr.matrix.max.rows = 6)"
   ]
  },
  {
   "cell_type": "code",
   "execution_count": 5,
   "id": "7c306720-587e-485e-b3c1-8b075961fdfe",
   "metadata": {},
   "outputs": [
    {
     "name": "stderr",
     "output_type": "stream",
     "text": [
      "\u001b[1m\u001b[22mNew names:\n",
      "\u001b[36m•\u001b[39m `` -> `...1`\n",
      "\u001b[36m•\u001b[39m `` -> `...2`\n",
      "\u001b[36m•\u001b[39m `` -> `...3`\n",
      "\u001b[36m•\u001b[39m `` -> `...4`\n",
      "\u001b[36m•\u001b[39m `` -> `...5`\n",
      "\u001b[36m•\u001b[39m `` -> `...6`\n",
      "\u001b[36m•\u001b[39m `` -> `...7`\n",
      "\u001b[36m•\u001b[39m `` -> `...8`\n",
      "\u001b[36m•\u001b[39m `` -> `...9`\n",
      "\u001b[36m•\u001b[39m `` -> `...10`\n",
      "\u001b[36m•\u001b[39m `` -> `...11`\n",
      "\u001b[1mRows: \u001b[22m\u001b[34m33\u001b[39m \u001b[1mColumns: \u001b[22m\u001b[34m11\u001b[39m\n",
      "\u001b[36m──\u001b[39m \u001b[1mColumn specification\u001b[22m \u001b[36m────────────────────────────────────────────────────────\u001b[39m\n",
      "\u001b[1mDelimiter:\u001b[22m \",\"\n",
      "\u001b[31mchr\u001b[39m (2): ...1, ...2\n",
      "\u001b[32mdbl\u001b[39m (9): ...3, ...4, ...5, ...6, ...7, ...8, ...9, ...10, ...11\n",
      "\n",
      "\u001b[36mℹ\u001b[39m Use `spec()` to retrieve the full column specification for this data.\n",
      "\u001b[36mℹ\u001b[39m Specify the column types or set `show_col_types = FALSE` to quiet this message.\n"
     ]
    },
    {
     "data": {
      "text/html": [
       "<table class=\"dataframe\">\n",
       "<caption>A tibble: 2 × 11</caption>\n",
       "<thead>\n",
       "\t<tr><th scope=col>...0</th><th scope=col>...2</th><th scope=col>...3</th><th scope=col>...4</th><th scope=col>...5</th><th scope=col>...6</th><th scope=col>...7</th><th scope=col>...8</th><th scope=col>...9</th><th scope=col>...10</th><th scope=col>...11</th></tr>\n",
       "\t<tr><th scope=col>&lt;chr&gt;</th><th scope=col>&lt;chr&gt;</th><th scope=col>&lt;dbl&gt;</th><th scope=col>&lt;dbl&gt;</th><th scope=col>&lt;dbl&gt;</th><th scope=col>&lt;dbl&gt;</th><th scope=col>&lt;dbl&gt;</th><th scope=col>&lt;dbl&gt;</th><th scope=col>&lt;dbl&gt;</th><th scope=col>&lt;dbl&gt;</th><th scope=col>&lt;dbl&gt;</th></tr>\n",
       "</thead>\n",
       "<tbody>\n",
       "\t<tr><td>year                                             </td><td>2013 </td><td>2014.0</td><td>2015.0</td><td>2016.0</td><td>2017.0</td><td>2018.0</td><td>2019.0</td><td>2020.0</td><td>2021.0</td><td>2022.0</td></tr>\n",
       "\t<tr><td>Real gross national income, volume index 2012=100</td><td>102.8</td><td> 105.1</td><td> 103.5</td><td> 104.4</td><td> 108.8</td><td> 111.4</td><td> 113.8</td><td> 107.3</td><td> 117.6</td><td> 123.1</td></tr>\n",
       "</tbody>\n",
       "</table>\n"
      ],
      "text/latex": [
       "A tibble: 2 × 11\n",
       "\\begin{tabular}{lllllllllll}\n",
       " ...0 & ...2 & ...3 & ...4 & ...5 & ...6 & ...7 & ...8 & ...9 & ...10 & ...11\\\\\n",
       " <chr> & <chr> & <dbl> & <dbl> & <dbl> & <dbl> & <dbl> & <dbl> & <dbl> & <dbl> & <dbl>\\\\\n",
       "\\hline\n",
       "\t year                                              & 2013  & 2014.0 & 2015.0 & 2016.0 & 2017.0 & 2018.0 & 2019.0 & 2020.0 & 2021.0 & 2022.0\\\\\n",
       "\t Real gross national income, volume index 2012=100 & 102.8 &  105.1 &  103.5 &  104.4 &  108.8 &  111.4 &  113.8 &  107.3 &  117.6 &  123.1\\\\\n",
       "\\end{tabular}\n"
      ],
      "text/markdown": [
       "\n",
       "A tibble: 2 × 11\n",
       "\n",
       "| ...0 &lt;chr&gt; | ...2 &lt;chr&gt; | ...3 &lt;dbl&gt; | ...4 &lt;dbl&gt; | ...5 &lt;dbl&gt; | ...6 &lt;dbl&gt; | ...7 &lt;dbl&gt; | ...8 &lt;dbl&gt; | ...9 &lt;dbl&gt; | ...10 &lt;dbl&gt; | ...11 &lt;dbl&gt; |\n",
       "|---|---|---|---|---|---|---|---|---|---|---|\n",
       "| year                                              | 2013  | 2014.0 | 2015.0 | 2016.0 | 2017.0 | 2018.0 | 2019.0 | 2020.0 | 2021.0 | 2022.0 |\n",
       "| Real gross national income, volume index 2012=100 | 102.8 |  105.1 |  103.5 |  104.4 |  108.8 |  111.4 |  113.8 |  107.3 |  117.6 |  123.1 |\n",
       "\n"
      ],
      "text/plain": [
       "  ...0                                              ...2  ...3   ...4   ...5  \n",
       "1 year                                              2013  2014.0 2015.0 2016.0\n",
       "2 Real gross national income, volume index 2012=100 102.8  105.1  103.5  104.4\n",
       "  ...6   ...7   ...8   ...9   ...10  ...11 \n",
       "1 2017.0 2018.0 2019.0 2020.0 2021.0 2022.0\n",
       "2  108.8  111.4  113.8  107.3  117.6  123.1"
      ]
     },
     "metadata": {},
     "output_type": "display_data"
    }
   ],
   "source": [
    "gni<-read_csv(\"gni.csv\",skip=7)|>\n",
    "filter(...1 == \"Estimates\" | ...1 == \"Real gross national income, volume index 2012=100\") \n",
    "gni$...0 <- c(\"year\", \"Real gross national income, volume index 2012=100\") \n",
    "gni_data <- select(gni, ...0,...2,...3,...4,...5,...6,...7,...8,...9,...10,...11)\n",
    "gni_data"
   ]
  },
  {
   "cell_type": "code",
   "execution_count": 6,
   "id": "72fb80f8-da23-497b-8351-96868f03b4e4",
   "metadata": {},
   "outputs": [
    {
     "name": "stderr",
     "output_type": "stream",
     "text": [
      "Multiple files in zip: reading '_rels/.rels'\n",
      "\u001b[1mRows: \u001b[22m\u001b[34m0\u001b[39m \u001b[1mColumns: \u001b[22m\u001b[34m0\u001b[39m\n",
      "\n",
      "\u001b[36mℹ\u001b[39m Use `spec()` to retrieve the full column specification for this data.\n",
      "\u001b[36mℹ\u001b[39m Specify the column types or set `show_col_types = FALSE` to quiet this message.\n"
     ]
    },
    {
     "ename": "ERROR",
     "evalue": "\u001b[1m\u001b[33mError\u001b[39m in \u001b[1m\u001b[1m`filter()`:\u001b[22m\n\u001b[1m\u001b[22m\u001b[33m!\u001b[39m Problem while computing `..1 = !is.na(...3)`.\n\u001b[1mCaused by error in \u001b[1m\u001b[1m`mask$eval_all_filter()`:\u001b[22m\n\u001b[33m!\u001b[39m object '...3' not found\n",
     "output_type": "error",
     "traceback": [
      "\u001b[1m\u001b[33mError\u001b[39m in \u001b[1m\u001b[1m`filter()`:\u001b[22m\n\u001b[1m\u001b[22m\u001b[33m!\u001b[39m Problem while computing `..1 = !is.na(...3)`.\n\u001b[1mCaused by error in \u001b[1m\u001b[1m`mask$eval_all_filter()`:\u001b[22m\n\u001b[33m!\u001b[39m object '...3' not found\nTraceback:\n",
      "1. filter(read_csv(\"current_account.csv\", skip = 11), !is.na(...3))",
      "2. filter.data.frame(read_csv(\"current_account.csv\", skip = 11), \n .     !is.na(...3))",
      "3. filter_rows(.data, ..., caller_env = caller_env())",
      "4. filter_eval(dots, mask = mask, error_call = error_call)",
      "5. withCallingHandlers({\n .     mask$eval_all_filter(dots, env_filter)\n . }, error = function(e) {\n .     local_error_context(dots = dots, .index = env_filter$current_expression, \n .         mask = mask)\n .     bullets <- c(cnd_bullet_header(\"computing\"), filter_bullets(e))\n .     abort(bullets, call = error_call, parent = skip_internal_condition(e))\n . })",
      "6. mask$eval_all_filter(dots, env_filter)",
      "7. .handleSimpleError(function (e) \n . {\n .     local_error_context(dots = dots, .index = env_filter$current_expression, \n .         mask = mask)\n .     bullets <- c(cnd_bullet_header(\"computing\"), filter_bullets(e))\n .     abort(bullets, call = error_call, parent = skip_internal_condition(e))\n . }, \"object '...3' not found\", base::quote(mask$eval_all_filter(dots, \n .     env_filter)))",
      "8. h(simpleError(msg, call))",
      "9. abort(bullets, call = error_call, parent = skip_internal_condition(e))",
      "10. signal_abort(cnd, .file)"
     ]
    }
   ],
   "source": [
    "current_account <- read_csv(\"current_account.csv\", skip = 11)|>\n",
    "filter(!is.na(...3))\n",
    "current_account"
   ]
  },
  {
   "cell_type": "code",
   "execution_count": 7,
   "id": "9a12f31b-8538-49f6-ac52-67778bd8ddc9",
   "metadata": {},
   "outputs": [
    {
     "name": "stderr",
     "output_type": "stream",
     "text": [
      "\u001b[1m\u001b[22mNew names:\n",
      "\u001b[36m•\u001b[39m `` -> `...1`\n",
      "\u001b[36m•\u001b[39m `` -> `...2`\n",
      "\u001b[36m•\u001b[39m `` -> `...3`\n",
      "\u001b[36m•\u001b[39m `` -> `...4`\n",
      "\u001b[36m•\u001b[39m `` -> `...5`\n",
      "\u001b[36m•\u001b[39m `` -> `...6`\n",
      "\u001b[36m•\u001b[39m `` -> `...7`\n",
      "\u001b[36m•\u001b[39m `` -> `...8`\n",
      "\u001b[36m•\u001b[39m `` -> `...9`\n",
      "\u001b[36m•\u001b[39m `` -> `...10`\n",
      "\u001b[36m•\u001b[39m `` -> `...11`\n",
      "\u001b[36m•\u001b[39m `` -> `...12`\n",
      "\u001b[36m•\u001b[39m `` -> `...13`\n",
      "\u001b[36m•\u001b[39m `` -> `...14`\n",
      "\u001b[36m•\u001b[39m `` -> `...15`\n",
      "\u001b[36m•\u001b[39m `` -> `...16`\n",
      "\u001b[36m•\u001b[39m `` -> `...17`\n",
      "\u001b[36m•\u001b[39m `` -> `...18`\n",
      "\u001b[1mRows: \u001b[22m\u001b[34m37\u001b[39m \u001b[1mColumns: \u001b[22m\u001b[34m18\u001b[39m\n",
      "\u001b[36m──\u001b[39m \u001b[1mColumn specification\u001b[22m \u001b[36m────────────────────────────────────────────────────────\u001b[39m\n",
      "\u001b[1mDelimiter:\u001b[22m \",\"\n",
      "\u001b[31mchr\u001b[39m (18): ...1, ...2, ...3, ...4, ...5, ...6, ...7, ...8, ...9, ...10, ...11...\n",
      "\n",
      "\u001b[36mℹ\u001b[39m Use `spec()` to retrieve the full column specification for this data.\n",
      "\u001b[36mℹ\u001b[39m Specify the column types or set `show_col_types = FALSE` to quiet this message.\n"
     ]
    },
    {
     "data": {
      "text/html": [
       "<table class=\"dataframe\">\n",
       "<caption>A tibble: 2 × 11</caption>\n",
       "<thead>\n",
       "\t<tr><th scope=col>...0</th><th scope=col>...2</th><th scope=col>...3</th><th scope=col>...4</th><th scope=col>...5</th><th scope=col>...6</th><th scope=col>...7</th><th scope=col>...8</th><th scope=col>...9</th><th scope=col>...10</th><th scope=col>...11</th></tr>\n",
       "\t<tr><th scope=col>&lt;chr&gt;</th><th scope=col>&lt;chr&gt;</th><th scope=col>&lt;chr&gt;</th><th scope=col>&lt;chr&gt;</th><th scope=col>&lt;chr&gt;</th><th scope=col>&lt;chr&gt;</th><th scope=col>&lt;chr&gt;</th><th scope=col>&lt;chr&gt;</th><th scope=col>&lt;chr&gt;</th><th scope=col>&lt;chr&gt;</th><th scope=col>&lt;chr&gt;</th></tr>\n",
       "</thead>\n",
       "<tbody>\n",
       "\t<tr><td>year             </td><td>2013 </td><td>2014 </td><td>2015 </td><td>2016 </td><td>2017 </td><td>2018 </td><td>2019 </td><td>2020 </td><td>2021 </td><td>2022 </td></tr>\n",
       "\t<tr><td>CPI for all items</td><td>122.8</td><td>125.2</td><td>126.6</td><td>128.4</td><td>130.4</td><td>133.4</td><td>136.0</td><td>137.0</td><td>141.6</td><td>151.2</td></tr>\n",
       "</tbody>\n",
       "</table>\n"
      ],
      "text/latex": [
       "A tibble: 2 × 11\n",
       "\\begin{tabular}{lllllllllll}\n",
       " ...0 & ...2 & ...3 & ...4 & ...5 & ...6 & ...7 & ...8 & ...9 & ...10 & ...11\\\\\n",
       " <chr> & <chr> & <chr> & <chr> & <chr> & <chr> & <chr> & <chr> & <chr> & <chr> & <chr>\\\\\n",
       "\\hline\n",
       "\t year              & 2013  & 2014  & 2015  & 2016  & 2017  & 2018  & 2019  & 2020  & 2021  & 2022 \\\\\n",
       "\t CPI for all items & 122.8 & 125.2 & 126.6 & 128.4 & 130.4 & 133.4 & 136.0 & 137.0 & 141.6 & 151.2\\\\\n",
       "\\end{tabular}\n"
      ],
      "text/markdown": [
       "\n",
       "A tibble: 2 × 11\n",
       "\n",
       "| ...0 &lt;chr&gt; | ...2 &lt;chr&gt; | ...3 &lt;chr&gt; | ...4 &lt;chr&gt; | ...5 &lt;chr&gt; | ...6 &lt;chr&gt; | ...7 &lt;chr&gt; | ...8 &lt;chr&gt; | ...9 &lt;chr&gt; | ...10 &lt;chr&gt; | ...11 &lt;chr&gt; |\n",
       "|---|---|---|---|---|---|---|---|---|---|---|\n",
       "| year              | 2013  | 2014  | 2015  | 2016  | 2017  | 2018  | 2019  | 2020  | 2021  | 2022  |\n",
       "| CPI for all items | 122.8 | 125.2 | 126.6 | 128.4 | 130.4 | 133.4 | 136.0 | 137.0 | 141.6 | 151.2 |\n",
       "\n"
      ],
      "text/plain": [
       "  ...0              ...2  ...3  ...4  ...5  ...6  ...7  ...8  ...9  ...10 ...11\n",
       "1 year              2013  2014  2015  2016  2017  2018  2019  2020  2021  2022 \n",
       "2 CPI for all items 122.8 125.2 126.6 128.4 130.4 133.4 136.0 137.0 141.6 151.2"
      ]
     },
     "metadata": {},
     "output_type": "display_data"
    }
   ],
   "source": [
    "cpi<-read_csv(\"cpi.csv\",skip = 7)|>\n",
    "filter(!is.na(...5))|>\n",
    "slice(-c(17:45))|>\n",
    "filter(...1 == \"All-items\" | ...1 == \"Products and product groups 4\") \n",
    "\n",
    "cpi$...0 <- c(\"year\", \"CPI for all items\") \n",
    "cpi_data <- select(cpi, ...0,...2,...3,...4,...5,...6,...7,...8,...9,...10,...11)\n",
    "\n",
    "cpi_data"
   ]
  },
  {
   "cell_type": "code",
   "execution_count": 9,
   "id": "958dcb67-e59f-4957-9dc5-805987827281",
   "metadata": {},
   "outputs": [
    {
     "name": "stderr",
     "output_type": "stream",
     "text": [
      "Multiple files in zip: reading 'Index/Document.iwa'\n"
     ]
    },
    {
     "ename": "ERROR",
     "evalue": "Error in vroom_(file, delim = delim %||% col_types$delim, col_names = col_names, : embedded nul in string: '\\v工作表 1\\022\\004\\b\\xe8\\x9e7\\030\\001(\\0010\\001=\\0\\0\\x80\\xbf@\\0R\\024'\n",
     "output_type": "error",
     "traceback": [
      "Error in vroom_(file, delim = delim %||% col_types$delim, col_names = col_names, : embedded nul in string: '\\v工作表 1\\022\\004\\b\\xe8\\x9e7\\030\\001(\\0010\\001=\\0\\0\\x80\\xbf@\\0R\\024'\nTraceback:\n",
      "1. filter(filter(read_csv(\"unemployment.csv\", skip = 7), !is.na(...5)), \n .     Canada == 7.1 | Canada == 2013)",
      "2. filter(read_csv(\"unemployment.csv\", skip = 7), !is.na(...5))",
      "3. read_csv(\"unemployment.csv\", skip = 7)",
      "4. vroom::vroom(file, delim = \",\", col_names = col_names, col_types = col_types, \n .     col_select = {\n .         {\n .             col_select\n .         }\n .     }, id = id, .name_repair = name_repair, skip = skip, n_max = n_max, \n .     na = na, quote = quote, comment = comment, skip_empty_rows = skip_empty_rows, \n .     trim_ws = trim_ws, escape_double = TRUE, escape_backslash = FALSE, \n .     locale = locale, guess_max = guess_max, show_col_types = show_col_types, \n .     progress = progress, altrep = lazy, num_threads = num_threads)",
      "5. vroom_(file, delim = delim %||% col_types$delim, col_names = col_names, \n .     col_types = col_types, id = id, skip = skip, col_select = col_select, \n .     name_repair = .name_repair, na = na, quote = quote, trim_ws = trim_ws, \n .     escape_double = escape_double, escape_backslash = escape_backslash, \n .     comment = comment, skip_empty_rows = skip_empty_rows, locale = locale, \n .     guess_max = guess_max, n_max = n_max, altrep = vroom_altrep(altrep), \n .     num_threads = num_threads, progress = progress)"
     ]
    }
   ],
   "source": [
    "unemployment<-read_csv(\"unemployment.csv\",skip = 7)|>\n",
    "filter(!is.na(...5)) |>\n",
    "filter(Canada == 7.1 | Canada == 2013)\n",
    "\n",
    "unemployment$...0 <- c(\"year\", \"Total, all education levels\") \n",
    "unemployment_data <- select(unemployment, ...0,Canada,...3,...4,...5,...6,...7,...8,...9,...10,...11)\n",
    "unemployment_data <- mutate(unemployment_data , ...2 = Canada)\n",
    "\n",
    "unemployment_data <- select(unemployment_data, ...0,...2,...3,...4,...5,...6,...7,...8,...9,...10,...11)\n",
    "unemployment_data"
   ]
  },
  {
   "cell_type": "markdown",
   "id": "74475f73-b942-4464-88a5-322815cebadd",
   "metadata": {},
   "source": [
    "Methods:\n",
    "\n",
    "We will use publicly available Economic data from Statistics Canada, with obersvations including the years 2013-2022 annually. The variables we are concerned with are Real GNI, unadjusted CPI, current account, and  aggregate unemployment rate (all annual data). In particular, the predictors would be CPI, current account and unemployment rate, while the response variable would be Real GNI. We are going to split the data into training set (2013-2019) and testing set (2020,2021,2022). We will carry out regression analysis using the k-nearest neighbours algorithm, with 5-fold cross-validation on the training set, pick the optimal k-value, and carry out predictions on Real GNI in 2020,2021,2022. We will then evaluate the accuracy of our prediction model by computing its root mean squared prediction error, and determine if the three independent variables are strong predictors of GNI. "
   ]
  },
  {
   "cell_type": "code",
   "execution_count": null,
   "id": "bcf26f2a-3752-4044-8cf5-1d8d1f904ce4",
   "metadata": {},
   "outputs": [],
   "source": []
  },
  {
   "cell_type": "code",
   "execution_count": null,
   "id": "2e581230-4969-43bd-8e3b-2ff1c4253d92",
   "metadata": {},
   "outputs": [],
   "source": []
  }
 ],
 "metadata": {
  "kernelspec": {
   "display_name": "R",
   "language": "R",
   "name": "ir"
  },
  "language_info": {
   "codemirror_mode": "r",
   "file_extension": ".r",
   "mimetype": "text/x-r-source",
   "name": "R",
   "pygments_lexer": "r",
   "version": "4.1.3"
  }
 },
 "nbformat": 4,
 "nbformat_minor": 5
}

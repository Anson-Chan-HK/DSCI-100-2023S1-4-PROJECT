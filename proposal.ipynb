{
 "cells": [
  {
   "cell_type": "markdown",
   "id": "f8af03b9-614c-464d-a705-6f1798d8a745",
   "metadata": {},
   "source": [
    "Title: The Prediction of Gross National Income of Canada in 2020, 2021 and 2022 from the datasets of 2013-2019\n",
    "\n",
    "Terminology \n",
    "- GNI: Gross National Income, which is the aggregate income of residents of an economy in a particular year.\n",
    "- CPI: Consumer Price Index, which is the price level of an economy by calculating the indexed price of a basket of goods and services a typical consumer of an economy purchases.\n",
    "- Current Account: Net goods and services outflow of an economy in a particular year. \n",
    "- Unemployment rate: Total unemployment persons over total labour force of an economy in a particular year.\n",
    "\n",
    "\n",
    "    We are trying to predict the Real Gross National Income (GNI) of Canada in 2022 by three variables, namely Consumer Price Index (CPI), current account balance (CA), and unemployment rate. We would do this by running regression analysis of the four variables (including the dependent variable GNI) from 2013-2021. This project is significant because it interacts different macroeconomic variables and any policy manipulation on the three variables could predict changes in GNI, which is one of the best measurements of economic wellbeing. We collected our data from Statistics Canada, which each variables filtered from 2013-2022 only. All data are unadjusted annual data.\n",
    "    \n",
    "    \n",
    "\n",
    "\n"
   ]
  }
 ],
 "metadata": {
  "kernelspec": {
   "display_name": "R",
   "language": "R",
   "name": "ir"
  },
  "language_info": {
   "codemirror_mode": "r",
   "file_extension": ".r",
   "mimetype": "text/x-r-source",
   "name": "R",
   "pygments_lexer": "r",
   "version": "4.1.3"
  }
 },
 "nbformat": 4,
 "nbformat_minor": 5
}
